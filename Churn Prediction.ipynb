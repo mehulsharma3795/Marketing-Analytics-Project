{
 "cells": [
  {
   "cell_type": "markdown",
   "metadata": {},
   "source": [
    "__Churn Prediction__\n",
    "Retention Rate is one of the most critical metrics.Retention Rate is an indication of how good is your product market fit (PMF).\n",
    "If your PMF is not satisfactory, you should see your customers churning very soon. One of the powerful tools to improve \n",
    "Retention Rate (hence the PMF) is Churn Prediction."
   ]
  },
  {
   "cell_type": "markdown",
   "metadata": {},
   "source": [
    "we will use a Telco dataset and go over the following steps to develop a Churn Prediction model:\n",
    "- Exploratory data analysis\n",
    "- Feature engineering\n",
    "- Investigating how the features affect Retention by using Logistic Regression\n",
    "- Building a classification model with XGBoost"
   ]
  },
  {
   "cell_type": "code",
   "execution_count": 14,
   "metadata": {},
   "outputs": [],
   "source": [
    "from datetime import datetime, timedelta,date\n",
    "import pandas as pd\n",
    "%matplotlib inline\n",
    "from sklearn.metrics import classification_report,confusion_matrix\n",
    "import matplotlib.pyplot as plt\n",
    "import numpy as np\n",
    "import seaborn as sns\n",
    "from sklearn.cluster import KMeans\n",
    "\n",
    "import xgboost as xgb\n",
    "from sklearn.model_selection import KFold, cross_val_score, train_test_split"
   ]
  },
  {
   "cell_type": "code",
   "execution_count": 15,
   "metadata": {},
   "outputs": [
    {
     "data": {
      "text/html": [
       "<div>\n",
       "<style scoped>\n",
       "    .dataframe tbody tr th:only-of-type {\n",
       "        vertical-align: middle;\n",
       "    }\n",
       "\n",
       "    .dataframe tbody tr th {\n",
       "        vertical-align: top;\n",
       "    }\n",
       "\n",
       "    .dataframe thead th {\n",
       "        text-align: right;\n",
       "    }\n",
       "</style>\n",
       "<table border=\"1\" class=\"dataframe\">\n",
       "  <thead>\n",
       "    <tr style=\"text-align: right;\">\n",
       "      <th></th>\n",
       "      <th>customerID</th>\n",
       "      <th>gender</th>\n",
       "      <th>SeniorCitizen</th>\n",
       "      <th>Partner</th>\n",
       "      <th>Dependents</th>\n",
       "      <th>tenure</th>\n",
       "      <th>PhoneService</th>\n",
       "      <th>MultipleLines</th>\n",
       "      <th>InternetService</th>\n",
       "      <th>OnlineSecurity</th>\n",
       "      <th>...</th>\n",
       "      <th>DeviceProtection</th>\n",
       "      <th>TechSupport</th>\n",
       "      <th>StreamingTV</th>\n",
       "      <th>StreamingMovies</th>\n",
       "      <th>Contract</th>\n",
       "      <th>PaperlessBilling</th>\n",
       "      <th>PaymentMethod</th>\n",
       "      <th>MonthlyCharges</th>\n",
       "      <th>TotalCharges</th>\n",
       "      <th>Churn</th>\n",
       "    </tr>\n",
       "  </thead>\n",
       "  <tbody>\n",
       "    <tr>\n",
       "      <th>0</th>\n",
       "      <td>7590-VHVEG</td>\n",
       "      <td>Female</td>\n",
       "      <td>0</td>\n",
       "      <td>Yes</td>\n",
       "      <td>No</td>\n",
       "      <td>1</td>\n",
       "      <td>No</td>\n",
       "      <td>No phone service</td>\n",
       "      <td>DSL</td>\n",
       "      <td>No</td>\n",
       "      <td>...</td>\n",
       "      <td>No</td>\n",
       "      <td>No</td>\n",
       "      <td>No</td>\n",
       "      <td>No</td>\n",
       "      <td>Month-to-month</td>\n",
       "      <td>Yes</td>\n",
       "      <td>Electronic check</td>\n",
       "      <td>29.85</td>\n",
       "      <td>29.85</td>\n",
       "      <td>No</td>\n",
       "    </tr>\n",
       "    <tr>\n",
       "      <th>1</th>\n",
       "      <td>5575-GNVDE</td>\n",
       "      <td>Male</td>\n",
       "      <td>0</td>\n",
       "      <td>No</td>\n",
       "      <td>No</td>\n",
       "      <td>34</td>\n",
       "      <td>Yes</td>\n",
       "      <td>No</td>\n",
       "      <td>DSL</td>\n",
       "      <td>Yes</td>\n",
       "      <td>...</td>\n",
       "      <td>Yes</td>\n",
       "      <td>No</td>\n",
       "      <td>No</td>\n",
       "      <td>No</td>\n",
       "      <td>One year</td>\n",
       "      <td>No</td>\n",
       "      <td>Mailed check</td>\n",
       "      <td>56.95</td>\n",
       "      <td>1889.5</td>\n",
       "      <td>No</td>\n",
       "    </tr>\n",
       "    <tr>\n",
       "      <th>2</th>\n",
       "      <td>3668-QPYBK</td>\n",
       "      <td>Male</td>\n",
       "      <td>0</td>\n",
       "      <td>No</td>\n",
       "      <td>No</td>\n",
       "      <td>2</td>\n",
       "      <td>Yes</td>\n",
       "      <td>No</td>\n",
       "      <td>DSL</td>\n",
       "      <td>Yes</td>\n",
       "      <td>...</td>\n",
       "      <td>No</td>\n",
       "      <td>No</td>\n",
       "      <td>No</td>\n",
       "      <td>No</td>\n",
       "      <td>Month-to-month</td>\n",
       "      <td>Yes</td>\n",
       "      <td>Mailed check</td>\n",
       "      <td>53.85</td>\n",
       "      <td>108.15</td>\n",
       "      <td>Yes</td>\n",
       "    </tr>\n",
       "    <tr>\n",
       "      <th>3</th>\n",
       "      <td>7795-CFOCW</td>\n",
       "      <td>Male</td>\n",
       "      <td>0</td>\n",
       "      <td>No</td>\n",
       "      <td>No</td>\n",
       "      <td>45</td>\n",
       "      <td>No</td>\n",
       "      <td>No phone service</td>\n",
       "      <td>DSL</td>\n",
       "      <td>Yes</td>\n",
       "      <td>...</td>\n",
       "      <td>Yes</td>\n",
       "      <td>Yes</td>\n",
       "      <td>No</td>\n",
       "      <td>No</td>\n",
       "      <td>One year</td>\n",
       "      <td>No</td>\n",
       "      <td>Bank transfer (automatic)</td>\n",
       "      <td>42.30</td>\n",
       "      <td>1840.75</td>\n",
       "      <td>No</td>\n",
       "    </tr>\n",
       "    <tr>\n",
       "      <th>4</th>\n",
       "      <td>9237-HQITU</td>\n",
       "      <td>Female</td>\n",
       "      <td>0</td>\n",
       "      <td>No</td>\n",
       "      <td>No</td>\n",
       "      <td>2</td>\n",
       "      <td>Yes</td>\n",
       "      <td>No</td>\n",
       "      <td>Fiber optic</td>\n",
       "      <td>No</td>\n",
       "      <td>...</td>\n",
       "      <td>No</td>\n",
       "      <td>No</td>\n",
       "      <td>No</td>\n",
       "      <td>No</td>\n",
       "      <td>Month-to-month</td>\n",
       "      <td>Yes</td>\n",
       "      <td>Electronic check</td>\n",
       "      <td>70.70</td>\n",
       "      <td>151.65</td>\n",
       "      <td>Yes</td>\n",
       "    </tr>\n",
       "    <tr>\n",
       "      <th>5</th>\n",
       "      <td>9305-CDSKC</td>\n",
       "      <td>Female</td>\n",
       "      <td>0</td>\n",
       "      <td>No</td>\n",
       "      <td>No</td>\n",
       "      <td>8</td>\n",
       "      <td>Yes</td>\n",
       "      <td>Yes</td>\n",
       "      <td>Fiber optic</td>\n",
       "      <td>No</td>\n",
       "      <td>...</td>\n",
       "      <td>Yes</td>\n",
       "      <td>No</td>\n",
       "      <td>Yes</td>\n",
       "      <td>Yes</td>\n",
       "      <td>Month-to-month</td>\n",
       "      <td>Yes</td>\n",
       "      <td>Electronic check</td>\n",
       "      <td>99.65</td>\n",
       "      <td>820.5</td>\n",
       "      <td>Yes</td>\n",
       "    </tr>\n",
       "    <tr>\n",
       "      <th>6</th>\n",
       "      <td>1452-KIOVK</td>\n",
       "      <td>Male</td>\n",
       "      <td>0</td>\n",
       "      <td>No</td>\n",
       "      <td>Yes</td>\n",
       "      <td>22</td>\n",
       "      <td>Yes</td>\n",
       "      <td>Yes</td>\n",
       "      <td>Fiber optic</td>\n",
       "      <td>No</td>\n",
       "      <td>...</td>\n",
       "      <td>No</td>\n",
       "      <td>No</td>\n",
       "      <td>Yes</td>\n",
       "      <td>No</td>\n",
       "      <td>Month-to-month</td>\n",
       "      <td>Yes</td>\n",
       "      <td>Credit card (automatic)</td>\n",
       "      <td>89.10</td>\n",
       "      <td>1949.4</td>\n",
       "      <td>No</td>\n",
       "    </tr>\n",
       "    <tr>\n",
       "      <th>7</th>\n",
       "      <td>6713-OKOMC</td>\n",
       "      <td>Female</td>\n",
       "      <td>0</td>\n",
       "      <td>No</td>\n",
       "      <td>No</td>\n",
       "      <td>10</td>\n",
       "      <td>No</td>\n",
       "      <td>No phone service</td>\n",
       "      <td>DSL</td>\n",
       "      <td>Yes</td>\n",
       "      <td>...</td>\n",
       "      <td>No</td>\n",
       "      <td>No</td>\n",
       "      <td>No</td>\n",
       "      <td>No</td>\n",
       "      <td>Month-to-month</td>\n",
       "      <td>No</td>\n",
       "      <td>Mailed check</td>\n",
       "      <td>29.75</td>\n",
       "      <td>301.9</td>\n",
       "      <td>No</td>\n",
       "    </tr>\n",
       "    <tr>\n",
       "      <th>8</th>\n",
       "      <td>7892-POOKP</td>\n",
       "      <td>Female</td>\n",
       "      <td>0</td>\n",
       "      <td>Yes</td>\n",
       "      <td>No</td>\n",
       "      <td>28</td>\n",
       "      <td>Yes</td>\n",
       "      <td>Yes</td>\n",
       "      <td>Fiber optic</td>\n",
       "      <td>No</td>\n",
       "      <td>...</td>\n",
       "      <td>Yes</td>\n",
       "      <td>Yes</td>\n",
       "      <td>Yes</td>\n",
       "      <td>Yes</td>\n",
       "      <td>Month-to-month</td>\n",
       "      <td>Yes</td>\n",
       "      <td>Electronic check</td>\n",
       "      <td>104.80</td>\n",
       "      <td>3046.05</td>\n",
       "      <td>Yes</td>\n",
       "    </tr>\n",
       "    <tr>\n",
       "      <th>9</th>\n",
       "      <td>6388-TABGU</td>\n",
       "      <td>Male</td>\n",
       "      <td>0</td>\n",
       "      <td>No</td>\n",
       "      <td>Yes</td>\n",
       "      <td>62</td>\n",
       "      <td>Yes</td>\n",
       "      <td>No</td>\n",
       "      <td>DSL</td>\n",
       "      <td>Yes</td>\n",
       "      <td>...</td>\n",
       "      <td>No</td>\n",
       "      <td>No</td>\n",
       "      <td>No</td>\n",
       "      <td>No</td>\n",
       "      <td>One year</td>\n",
       "      <td>No</td>\n",
       "      <td>Bank transfer (automatic)</td>\n",
       "      <td>56.15</td>\n",
       "      <td>3487.95</td>\n",
       "      <td>No</td>\n",
       "    </tr>\n",
       "  </tbody>\n",
       "</table>\n",
       "<p>10 rows × 21 columns</p>\n",
       "</div>"
      ],
      "text/plain": [
       "   customerID  gender  SeniorCitizen Partner Dependents  tenure PhoneService  \\\n",
       "0  7590-VHVEG  Female              0     Yes         No       1           No   \n",
       "1  5575-GNVDE    Male              0      No         No      34          Yes   \n",
       "2  3668-QPYBK    Male              0      No         No       2          Yes   \n",
       "3  7795-CFOCW    Male              0      No         No      45           No   \n",
       "4  9237-HQITU  Female              0      No         No       2          Yes   \n",
       "5  9305-CDSKC  Female              0      No         No       8          Yes   \n",
       "6  1452-KIOVK    Male              0      No        Yes      22          Yes   \n",
       "7  6713-OKOMC  Female              0      No         No      10           No   \n",
       "8  7892-POOKP  Female              0     Yes         No      28          Yes   \n",
       "9  6388-TABGU    Male              0      No        Yes      62          Yes   \n",
       "\n",
       "      MultipleLines InternetService OnlineSecurity  ... DeviceProtection  \\\n",
       "0  No phone service             DSL             No  ...               No   \n",
       "1                No             DSL            Yes  ...              Yes   \n",
       "2                No             DSL            Yes  ...               No   \n",
       "3  No phone service             DSL            Yes  ...              Yes   \n",
       "4                No     Fiber optic             No  ...               No   \n",
       "5               Yes     Fiber optic             No  ...              Yes   \n",
       "6               Yes     Fiber optic             No  ...               No   \n",
       "7  No phone service             DSL            Yes  ...               No   \n",
       "8               Yes     Fiber optic             No  ...              Yes   \n",
       "9                No             DSL            Yes  ...               No   \n",
       "\n",
       "  TechSupport StreamingTV StreamingMovies        Contract PaperlessBilling  \\\n",
       "0          No          No              No  Month-to-month              Yes   \n",
       "1          No          No              No        One year               No   \n",
       "2          No          No              No  Month-to-month              Yes   \n",
       "3         Yes          No              No        One year               No   \n",
       "4          No          No              No  Month-to-month              Yes   \n",
       "5          No         Yes             Yes  Month-to-month              Yes   \n",
       "6          No         Yes              No  Month-to-month              Yes   \n",
       "7          No          No              No  Month-to-month               No   \n",
       "8         Yes         Yes             Yes  Month-to-month              Yes   \n",
       "9          No          No              No        One year               No   \n",
       "\n",
       "               PaymentMethod MonthlyCharges  TotalCharges Churn  \n",
       "0           Electronic check          29.85         29.85    No  \n",
       "1               Mailed check          56.95        1889.5    No  \n",
       "2               Mailed check          53.85        108.15   Yes  \n",
       "3  Bank transfer (automatic)          42.30       1840.75    No  \n",
       "4           Electronic check          70.70        151.65   Yes  \n",
       "5           Electronic check          99.65         820.5   Yes  \n",
       "6    Credit card (automatic)          89.10        1949.4    No  \n",
       "7               Mailed check          29.75         301.9    No  \n",
       "8           Electronic check         104.80       3046.05   Yes  \n",
       "9  Bank transfer (automatic)          56.15       3487.95    No  \n",
       "\n",
       "[10 rows x 21 columns]"
      ]
     },
     "execution_count": 15,
     "metadata": {},
     "output_type": "execute_result"
    }
   ],
   "source": [
    "df_data = pd.read_csv('WA_Fn-UseC_-Telco-Customer-Churn.csv')\n",
    "df_data.head(10)"
   ]
  },
  {
   "cell_type": "code",
   "execution_count": 16,
   "metadata": {},
   "outputs": [
    {
     "name": "stdout",
     "output_type": "stream",
     "text": [
      "<class 'pandas.core.frame.DataFrame'>\n",
      "RangeIndex: 7043 entries, 0 to 7042\n",
      "Data columns (total 21 columns):\n",
      "customerID          7043 non-null object\n",
      "gender              7043 non-null object\n",
      "SeniorCitizen       7043 non-null int64\n",
      "Partner             7043 non-null object\n",
      "Dependents          7043 non-null object\n",
      "tenure              7043 non-null int64\n",
      "PhoneService        7043 non-null object\n",
      "MultipleLines       7043 non-null object\n",
      "InternetService     7043 non-null object\n",
      "OnlineSecurity      7043 non-null object\n",
      "OnlineBackup        7043 non-null object\n",
      "DeviceProtection    7043 non-null object\n",
      "TechSupport         7043 non-null object\n",
      "StreamingTV         7043 non-null object\n",
      "StreamingMovies     7043 non-null object\n",
      "Contract            7043 non-null object\n",
      "PaperlessBilling    7043 non-null object\n",
      "PaymentMethod       7043 non-null object\n",
      "MonthlyCharges      7043 non-null float64\n",
      "TotalCharges        7043 non-null object\n",
      "Churn               7043 non-null object\n",
      "dtypes: float64(1), int64(2), object(18)\n",
      "memory usage: 1.1+ MB\n"
     ]
    }
   ],
   "source": [
    "df_data.info()"
   ]
  },
  {
   "cell_type": "markdown",
   "metadata": {},
   "source": [
    "__Exploratory Data Analysis__"
   ]
  },
  {
   "cell_type": "code",
   "execution_count": 17,
   "metadata": {},
   "outputs": [],
   "source": [
    "df_data.loc[df_data.Churn=='No','Churn'] = 0 \n",
    "df_data.loc[df_data.Churn=='Yes','Churn'] = 1"
   ]
  },
  {
   "cell_type": "code",
   "execution_count": 18,
   "metadata": {},
   "outputs": [
    {
     "data": {
      "text/plain": [
       "count    7043.000000\n",
       "mean       32.371149\n",
       "std        24.559481\n",
       "min         0.000000\n",
       "25%         9.000000\n",
       "50%        29.000000\n",
       "75%        55.000000\n",
       "max        72.000000\n",
       "Name: tenure, dtype: float64"
      ]
     },
     "execution_count": 18,
     "metadata": {},
     "output_type": "execute_result"
    }
   ],
   "source": [
    "df_data.tenure.describe()"
   ]
  },
  {
   "cell_type": "code",
   "execution_count": 19,
   "metadata": {},
   "outputs": [
    {
     "data": {
      "text/html": [
       "<div>\n",
       "<style scoped>\n",
       "    .dataframe tbody tr th:only-of-type {\n",
       "        vertical-align: middle;\n",
       "    }\n",
       "\n",
       "    .dataframe tbody tr th {\n",
       "        vertical-align: top;\n",
       "    }\n",
       "\n",
       "    .dataframe thead th {\n",
       "        text-align: right;\n",
       "    }\n",
       "</style>\n",
       "<table border=\"1\" class=\"dataframe\">\n",
       "  <thead>\n",
       "    <tr style=\"text-align: right;\">\n",
       "      <th></th>\n",
       "      <th>gender</th>\n",
       "      <th>Churn</th>\n",
       "    </tr>\n",
       "  </thead>\n",
       "  <tbody>\n",
       "    <tr>\n",
       "      <th>0</th>\n",
       "      <td>Female</td>\n",
       "      <td>0.269209</td>\n",
       "    </tr>\n",
       "    <tr>\n",
       "      <th>1</th>\n",
       "      <td>Male</td>\n",
       "      <td>0.261603</td>\n",
       "    </tr>\n",
       "  </tbody>\n",
       "</table>\n",
       "</div>"
      ],
      "text/plain": [
       "   gender     Churn\n",
       "0  Female  0.269209\n",
       "1    Male  0.261603"
      ]
     },
     "execution_count": 19,
     "metadata": {},
     "output_type": "execute_result"
    }
   ],
   "source": [
    "df_plot = df_data.groupby('gender').Churn.mean().reset_index()\n",
    "df_plot"
   ]
  },
  {
   "cell_type": "code",
   "execution_count": 20,
   "metadata": {},
   "outputs": [
    {
     "data": {
      "image/png": "[encoded data removed]",
      "text/plain": [
       "<Figure size 432x288 with 1 Axes>"
      ]
     },
     "metadata": {
      "needs_background": "light"
     },
     "output_type": "display_data"
    }
   ],
   "source": [
    "sns.barplot(x='gender',y='Churn',data=df_data)\n",
    "plt.title(\"Gender Vs Churn Rate\")\n",
    "plt.xticks((0,1),(\"Female\",\"Male\"))\n",
    "plt.show()"
   ]
  },
  {
   "cell_type": "code",
   "execution_count": 21,
   "metadata": {},
   "outputs": [
    {
     "data": {
      "text/html": [
       "<div>\n",
       "<style scoped>\n",
       "    .dataframe tbody tr th:only-of-type {\n",
       "        vertical-align: middle;\n",
       "    }\n",
       "\n",
       "    .dataframe tbody tr th {\n",
       "        vertical-align: top;\n",
       "    }\n",
       "\n",
       "    .dataframe thead th {\n",
       "        text-align: right;\n",
       "    }\n",
       "</style>\n",
       "<table border=\"1\" class=\"dataframe\">\n",
       "  <thead>\n",
       "    <tr style=\"text-align: right;\">\n",
       "      <th></th>\n",
       "      <th>InternetService</th>\n",
       "      <th>Churn</th>\n",
       "    </tr>\n",
       "  </thead>\n",
       "  <tbody>\n",
       "    <tr>\n",
       "      <th>0</th>\n",
       "      <td>DSL</td>\n",
       "      <td>0.189591</td>\n",
       "    </tr>\n",
       "    <tr>\n",
       "      <th>1</th>\n",
       "      <td>Fiber optic</td>\n",
       "      <td>0.418928</td>\n",
       "    </tr>\n",
       "    <tr>\n",
       "      <th>2</th>\n",
       "      <td>No</td>\n",
       "      <td>0.074050</td>\n",
       "    </tr>\n",
       "  </tbody>\n",
       "</table>\n",
       "</div>"
      ],
      "text/plain": [
       "  InternetService     Churn\n",
       "0             DSL  0.189591\n",
       "1     Fiber optic  0.418928\n",
       "2              No  0.074050"
      ]
     },
     "execution_count": 21,
     "metadata": {},
     "output_type": "execute_result"
    }
   ],
   "source": [
    "df_plot = df_data.groupby('InternetService').Churn.mean().reset_index()\n",
    "df_plot"
   ]
  },
  {
   "cell_type": "code",
   "execution_count": 22,
   "metadata": {},
   "outputs": [
    {
     "data": {
      "image/png": "[encoded data removed]",
      "text/plain": [
       "<Figure size 720x360 with 1 Axes>"
      ]
     },
     "metadata": {
      "needs_background": "light"
     },
     "output_type": "display_data"
    }
   ],
   "source": [
    "plt.figure(figsize=(10,5))\n",
    "sns.barplot(x='InternetService',y='Churn',data=df_plot)\n",
    "plt.title(\"InternetService Vs Churn Rate\")\n",
    "plt.show()"
   ]
  },
  {
   "cell_type": "code",
   "execution_count": 23,
   "metadata": {},
   "outputs": [
    {
     "data": {
      "image/png": "[encoded data removed]",
      "text/plain": [
       "<Figure size 720x360 with 1 Axes>"
      ]
     },
     "metadata": {
      "needs_background": "light"
     },
     "output_type": "display_data"
    }
   ],
   "source": [
    "plt.figure(figsize=(10,5))\n",
    "sns.barplot(x='TechSupport',y='Churn',data=df_data)\n",
    "plt.title(\"TechSupport Vs Churn Rate\")\n",
    "plt.show()"
   ]
  },
  {
   "cell_type": "code",
   "execution_count": 24,
   "metadata": {},
   "outputs": [
    {
     "data": {
      "image/png": "[encoded data removed]",
      "text/plain": [
       "<Figure size 720x360 with 1 Axes>"
      ]
     },
     "metadata": {
      "needs_background": "light"
     },
     "output_type": "display_data"
    }
   ],
   "source": [
    "plt.figure(figsize=(10,5))\n",
    "sns.barplot(x='PaymentMethod',y='Churn',data=df_data)\n",
    "plt.title(\"PaymentMethod Vs Churn Rate\")\n",
    "plt.show()"
   ]
  },
  {
   "cell_type": "code",
   "execution_count": 25,
   "metadata": {
    "scrolled": false
   },
   "outputs": [
    {
     "data": {
      "image/png": "[encoded data removed]",
      "text/plain": [
       "<Figure size 720x864 with 6 Axes>"
      ]
     },
     "metadata": {
      "needs_background": "light"
     },
     "output_type": "display_data"
    }
   ],
   "source": [
    "fig = plt.figure(figsize=(10,12))\n",
    "labels2 = ['PhoneService','PaperlessBilling','StreamingMovies','Contract','DeviceProtection','MultipleLines']  \n",
    "for i in range(0,6):\n",
    "    ax = fig.add_subplot(3,2,i+1)\n",
    "    plt.tight_layout()\n",
    "    sns.barplot(x=labels2[i],y='Churn',data=df_data)\n",
    "plt.show()"
   ]
  },
  {
   "cell_type": "code",
   "execution_count": 70,
   "metadata": {
    "scrolled": false
   },
   "outputs": [
    {
     "data": {
      "image/png": "[encoded data removed]",
      "text/plain": [
       "<Figure size 864x432 with 2 Axes>"
      ]
     },
     "metadata": {
      "needs_background": "light"
     },
     "output_type": "display_data"
    }
   ],
   "source": [
    "fig = plt.figure(figsize=(12,6))\n",
    "labels2 = ['tenure','MonthlyCharges']  \n",
    "for i in range(0,2):\n",
    "    ax = fig.add_subplot(1,2,i+1)\n",
    "    #plt.tight_layout()\n",
    "    df_plot = df_data.groupby(labels2[i]).Churn.mean().reset_index()\n",
    "    sns.scatterplot(x=labels2[i],y='Churn',data=df_plot)\n",
    "plt.show()"
   ]
  },
  {
   "cell_type": "code",
   "execution_count": 66,
   "metadata": {},
   "outputs": [
    {
     "data": {
      "text/plain": [
       "2"
      ]
     },
     "execution_count": 66,
     "metadata": {},
     "output_type": "execute_result"
    }
   ],
   "source": [
    "#df_plot = df_data.groupby('TotalCharges').Churn.mean().reset_index()"
   ]
  },
  {
   "cell_type": "code",
   "execution_count": null,
   "metadata": {
    "scrolled": false
   },
   "outputs": [],
   "source": []
  },
  {
   "cell_type": "code",
   "execution_count": 73,
   "metadata": {},
   "outputs": [],
   "source": [
    "def order_cluster(cluster_field_name, target_field_name,df,ascending):\n",
    "    new_cluster_field_name = 'new_' + cluster_field_name\n",
    "    df_new = df.groupby(cluster_field_name)[target_field_name].mean().reset_index()\n",
    "    df_new = df_new.sort_values(by=target_field_name,ascending=ascending).reset_index(drop=True)\n",
    "    df_new['index'] = df_new.index\n",
    "    df_final = pd.merge(df,df_new[[cluster_field_name,'index']], on=cluster_field_name)\n",
    "    df_final = df_final.drop([cluster_field_name],axis=1)\n",
    "    df_final = df_final.rename(columns={\"index\":cluster_field_name})\n",
    "    return df_final"
   ]
  },
  {
   "cell_type": "code",
   "execution_count": 74,
   "metadata": {},
   "outputs": [
    {
     "data": {
      "image/png": "[encoded data removed]",
      "text/plain": [
       "<Figure size 1152x576 with 1 Axes>"
      ]
     },
     "metadata": {
      "needs_background": "light"
     },
     "output_type": "display_data"
    }
   ],
   "source": [
    "sse={}\n",
    "pd.options.mode.chained_assignment = None\n",
    "df_cluster = df_data[['tenure']]\n",
    "for k in range(1, 10):\n",
    "    kmeans = KMeans(n_clusters=k, max_iter=1000).fit(df_cluster)\n",
    "    df_cluster[\"clusters\"] = kmeans.labels_\n",
    "    sse[k] = kmeans.inertia_ \n",
    "plt.figure(figsize=(16,8))\n",
    "plt.plot(list(sse.keys()), list(sse.values()))\n",
    "plt.xlabel(\"Number of cluster\")\n",
    "plt.show()"
   ]
  },
  {
   "cell_type": "code",
   "execution_count": 75,
   "metadata": {},
   "outputs": [],
   "source": [
    "kmeans = KMeans(n_clusters=3)\n",
    "kmeans.fit(df_data[['tenure']])\n",
    "df_data['TenureCluster'] = kmeans.predict(df_data[['tenure']])"
   ]
  },
  {
   "cell_type": "code",
   "execution_count": 76,
   "metadata": {},
   "outputs": [],
   "source": [
    "df_data = order_cluster('TenureCluster', 'tenure',df_data,True)"
   ]
  },
  {
   "cell_type": "code",
   "execution_count": 77,
   "metadata": {},
   "outputs": [
    {
     "data": {
      "text/html": [
       "<div>\n",
       "<style scoped>\n",
       "    .dataframe tbody tr th:only-of-type {\n",
       "        vertical-align: middle;\n",
       "    }\n",
       "\n",
       "    .dataframe tbody tr th {\n",
       "        vertical-align: top;\n",
       "    }\n",
       "\n",
       "    .dataframe thead th {\n",
       "        text-align: right;\n",
       "    }\n",
       "</style>\n",
       "<table border=\"1\" class=\"dataframe\">\n",
       "  <thead>\n",
       "    <tr style=\"text-align: right;\">\n",
       "      <th></th>\n",
       "      <th>count</th>\n",
       "      <th>mean</th>\n",
       "      <th>std</th>\n",
       "      <th>min</th>\n",
       "      <th>25%</th>\n",
       "      <th>50%</th>\n",
       "      <th>75%</th>\n",
       "      <th>max</th>\n",
       "    </tr>\n",
       "    <tr>\n",
       "      <th>TenureCluster</th>\n",
       "      <th></th>\n",
       "      <th></th>\n",
       "      <th></th>\n",
       "      <th></th>\n",
       "      <th></th>\n",
       "      <th></th>\n",
       "      <th></th>\n",
       "      <th></th>\n",
       "    </tr>\n",
       "  </thead>\n",
       "  <tbody>\n",
       "    <tr>\n",
       "      <th>0</th>\n",
       "      <td>2930.0</td>\n",
       "      <td>7.830717</td>\n",
       "      <td>6.220431</td>\n",
       "      <td>1.0</td>\n",
       "      <td>2.0</td>\n",
       "      <td>6.0</td>\n",
       "      <td>13.0</td>\n",
       "      <td>21.0</td>\n",
       "    </tr>\n",
       "    <tr>\n",
       "      <th>1</th>\n",
       "      <td>1929.0</td>\n",
       "      <td>34.792120</td>\n",
       "      <td>8.297679</td>\n",
       "      <td>22.0</td>\n",
       "      <td>27.0</td>\n",
       "      <td>35.0</td>\n",
       "      <td>42.0</td>\n",
       "      <td>49.0</td>\n",
       "    </tr>\n",
       "    <tr>\n",
       "      <th>2</th>\n",
       "      <td>2173.0</td>\n",
       "      <td>63.475380</td>\n",
       "      <td>7.172433</td>\n",
       "      <td>50.0</td>\n",
       "      <td>57.0</td>\n",
       "      <td>65.0</td>\n",
       "      <td>70.0</td>\n",
       "      <td>72.0</td>\n",
       "    </tr>\n",
       "  </tbody>\n",
       "</table>\n",
       "</div>"
      ],
      "text/plain": [
       "                count       mean       std   min   25%   50%   75%   max\n",
       "TenureCluster                                                           \n",
       "0              2930.0   7.830717  6.220431   1.0   2.0   6.0  13.0  21.0\n",
       "1              1929.0  34.792120  8.297679  22.0  27.0  35.0  42.0  49.0\n",
       "2              2173.0  63.475380  7.172433  50.0  57.0  65.0  70.0  72.0"
      ]
     },
     "execution_count": 77,
     "metadata": {},
     "output_type": "execute_result"
    }
   ],
   "source": [
    "df_data.groupby('TenureCluster').tenure.describe()"
   ]
  },
  {
   "cell_type": "code",
   "execution_count": 78,
   "metadata": {},
   "outputs": [],
   "source": [
    "df_data['TenureCluster'] = df_data[\"TenureCluster\"].replace({0:'Low',1:'Mid',2:'High'})"
   ]
  },
  {
   "cell_type": "code",
   "execution_count": 82,
   "metadata": {},
   "outputs": [
    {
     "data": {
      "image/png": "[encoded data removed]",
      "text/plain": [
       "<Figure size 576x288 with 1 Axes>"
      ]
     },
     "metadata": {
      "needs_background": "light"
     },
     "output_type": "display_data"
    }
   ],
   "source": [
    "df_plot = df_data.groupby('TenureCluster').Churn.mean().reset_index()\n",
    "plt.figure(figsize=(8,4))\n",
    "sns.barplot(x='TenureCluster',y='Churn',data=df_plot)\n",
    "plt.show()"
   ]
  },
  {
   "cell_type": "code",
   "execution_count": 35,
   "metadata": {},
   "outputs": [],
   "source": [
    "df_plot = df_data.copy()\n",
    "df_plot['MonthlyCharges'] = df_plot['MonthlyCharges'].astype(int)\n",
    "df_plot = df_plot.groupby('MonthlyCharges').Churn.mean().reset_index()"
   ]
  },
  {
   "cell_type": "code",
   "execution_count": 84,
   "metadata": {},
   "outputs": [
    {
     "data": {
      "image/png": "[encoded data removed]",
      "text/plain": [
       "<Figure size 1152x576 with 1 Axes>"
      ]
     },
     "metadata": {
      "needs_background": "light"
     },
     "output_type": "display_data"
    }
   ],
   "source": [
    "sse={}\n",
    "df_cluster = df_data[['MonthlyCharges']]\n",
    "for k in range(1, 10):\n",
    "    kmeans = KMeans(n_clusters=k, max_iter=1000).fit(df_cluster)\n",
    "    df_cluster[\"clusters\"] = kmeans.labels_\n",
    "    sse[k] = kmeans.inertia_ \n",
    "plt.figure(figsize=(16,8))\n",
    "plt.plot(list(sse.keys()), list(sse.values()))\n",
    "plt.xlabel(\"Number of cluster\")\n",
    "plt.show()"
   ]
  },
  {
   "cell_type": "code",
   "execution_count": 85,
   "metadata": {},
   "outputs": [],
   "source": [
    "kmeans = KMeans(n_clusters=3)\n",
    "kmeans.fit(df_data[['MonthlyCharges']])\n",
    "df_data['MonthlyChargeCluster'] = kmeans.predict(df_data[['MonthlyCharges']])"
   ]
  },
  {
   "cell_type": "code",
   "execution_count": 86,
   "metadata": {},
   "outputs": [],
   "source": [
    "df_data = order_cluster('MonthlyChargeCluster', 'MonthlyCharges',df_data,True)"
   ]
  },
  {
   "cell_type": "code",
   "execution_count": 87,
   "metadata": {},
   "outputs": [
    {
     "data": {
      "text/html": [
       "<div>\n",
       "<style scoped>\n",
       "    .dataframe tbody tr th:only-of-type {\n",
       "        vertical-align: middle;\n",
       "    }\n",
       "\n",
       "    .dataframe tbody tr th {\n",
       "        vertical-align: top;\n",
       "    }\n",
       "\n",
       "    .dataframe thead th {\n",
       "        text-align: right;\n",
       "    }\n",
       "</style>\n",
       "<table border=\"1\" class=\"dataframe\">\n",
       "  <thead>\n",
       "    <tr style=\"text-align: right;\">\n",
       "      <th></th>\n",
       "      <th>count</th>\n",
       "      <th>mean</th>\n",
       "      <th>std</th>\n",
       "      <th>min</th>\n",
       "      <th>25%</th>\n",
       "      <th>50%</th>\n",
       "      <th>75%</th>\n",
       "      <th>max</th>\n",
       "    </tr>\n",
       "    <tr>\n",
       "      <th>MonthlyChargeCluster</th>\n",
       "      <th></th>\n",
       "      <th></th>\n",
       "      <th></th>\n",
       "      <th></th>\n",
       "      <th></th>\n",
       "      <th></th>\n",
       "      <th></th>\n",
       "      <th></th>\n",
       "    </tr>\n",
       "  </thead>\n",
       "  <tbody>\n",
       "    <tr>\n",
       "      <th>0</th>\n",
       "      <td>1886.0</td>\n",
       "      <td>23.389608</td>\n",
       "      <td>5.666778</td>\n",
       "      <td>18.25</td>\n",
       "      <td>19.800</td>\n",
       "      <td>20.40</td>\n",
       "      <td>25.050</td>\n",
       "      <td>42.40</td>\n",
       "    </tr>\n",
       "    <tr>\n",
       "      <th>1</th>\n",
       "      <td>2235.0</td>\n",
       "      <td>61.630000</td>\n",
       "      <td>10.445398</td>\n",
       "      <td>42.60</td>\n",
       "      <td>51.775</td>\n",
       "      <td>61.55</td>\n",
       "      <td>70.700</td>\n",
       "      <td>77.80</td>\n",
       "    </tr>\n",
       "    <tr>\n",
       "      <th>2</th>\n",
       "      <td>2911.0</td>\n",
       "      <td>94.058794</td>\n",
       "      <td>10.342824</td>\n",
       "      <td>77.85</td>\n",
       "      <td>85.075</td>\n",
       "      <td>93.90</td>\n",
       "      <td>101.925</td>\n",
       "      <td>118.75</td>\n",
       "    </tr>\n",
       "  </tbody>\n",
       "</table>\n",
       "</div>"
      ],
      "text/plain": [
       "                       count       mean        std    min     25%    50%  \\\n",
       "MonthlyChargeCluster                                                       \n",
       "0                     1886.0  23.389608   5.666778  18.25  19.800  20.40   \n",
       "1                     2235.0  61.630000  10.445398  42.60  51.775  61.55   \n",
       "2                     2911.0  94.058794  10.342824  77.85  85.075  93.90   \n",
       "\n",
       "                          75%     max  \n",
       "MonthlyChargeCluster                   \n",
       "0                      25.050   42.40  \n",
       "1                      70.700   77.80  \n",
       "2                     101.925  118.75  "
      ]
     },
     "execution_count": 87,
     "metadata": {},
     "output_type": "execute_result"
    }
   ],
   "source": [
    "df_data.groupby('MonthlyChargeCluster').MonthlyCharges.describe()"
   ]
  },
  {
   "cell_type": "code",
   "execution_count": 90,
   "metadata": {},
   "outputs": [],
   "source": [
    "df_data['MonthlyChargeCluster'] = df_data[\"MonthlyChargeCluster\"].replace({0:'Low',1:'Mid',2:'High'})"
   ]
  },
  {
   "cell_type": "code",
   "execution_count": 96,
   "metadata": {},
   "outputs": [
    {
     "data": {
      "image/png": "[encoded data removed]",
      "text/plain": [
       "<Figure size 576x288 with 1 Axes>"
      ]
     },
     "metadata": {
      "needs_background": "light"
     },
     "output_type": "display_data"
    }
   ],
   "source": [
    "plt.figure(figsize=(8,4))\n",
    "sns.barplot(x='MonthlyChargeCluster',y='Churn',data=df_data)\n",
    "plt.show()"
   ]
  },
  {
   "cell_type": "code",
   "execution_count": 91,
   "metadata": {},
   "outputs": [
    {
     "data": {
      "text/html": [
       "<div>\n",
       "<style scoped>\n",
       "    .dataframe tbody tr th:only-of-type {\n",
       "        vertical-align: middle;\n",
       "    }\n",
       "\n",
       "    .dataframe tbody tr th {\n",
       "        vertical-align: top;\n",
       "    }\n",
       "\n",
       "    .dataframe thead th {\n",
       "        text-align: right;\n",
       "    }\n",
       "</style>\n",
       "<table border=\"1\" class=\"dataframe\">\n",
       "  <thead>\n",
       "    <tr style=\"text-align: right;\">\n",
       "      <th></th>\n",
       "      <th>customerID</th>\n",
       "      <th>gender</th>\n",
       "      <th>SeniorCitizen</th>\n",
       "      <th>Partner</th>\n",
       "      <th>Dependents</th>\n",
       "      <th>tenure</th>\n",
       "      <th>PhoneService</th>\n",
       "      <th>PaperlessBilling</th>\n",
       "      <th>MonthlyCharges</th>\n",
       "      <th>TotalCharges</th>\n",
       "      <th>...</th>\n",
       "      <th>TenureCluster_Mid</th>\n",
       "      <th>MonthlyChargeCluster_High</th>\n",
       "      <th>MonthlyChargeCluster_Low</th>\n",
       "      <th>MonthlyChargeCluster_Mid</th>\n",
       "      <th>TotalChargeCluster_High</th>\n",
       "      <th>TotalChargeCluster_Low</th>\n",
       "      <th>TotalChargeCluster_Mid</th>\n",
       "      <th>proba</th>\n",
       "      <th>TenureCluster</th>\n",
       "      <th>MonthlyChargeCluster</th>\n",
       "    </tr>\n",
       "  </thead>\n",
       "  <tbody>\n",
       "  </tbody>\n",
       "</table>\n",
       "<p>0 rows × 54 columns</p>\n",
       "</div>"
      ],
      "text/plain": [
       "Empty DataFrame\n",
       "Columns: [customerID, gender, SeniorCitizen, Partner, Dependents, tenure, PhoneService, PaperlessBilling, MonthlyCharges, TotalCharges, Churn, MultipleLines_No, MultipleLines_No_phone_service, MultipleLines_Yes, InternetService_DSL, InternetService_Fiber_optic, InternetService_No, OnlineSecurity_No, OnlineSecurity_No_internet_service, OnlineSecurity_Yes, OnlineBackup_No, OnlineBackup_No_internet_service, OnlineBackup_Yes, DeviceProtection_No, DeviceProtection_No_internet_service, DeviceProtection_Yes, TechSupport_No, TechSupport_No_internet_service, TechSupport_Yes, StreamingTV_No, StreamingTV_No_internet_service, StreamingTV_Yes, StreamingMovies_No, StreamingMovies_No_internet_service, StreamingMovies_Yes, Contract_Month_to_month, Contract_One_year, Contract_Two_year, PaymentMethod_Bank_transfer__automatic_, PaymentMethod_Credit_card__automatic_, PaymentMethod_Electronic_check, PaymentMethod_Mailed_check, TenureCluster_High, TenureCluster_Low, TenureCluster_Mid, MonthlyChargeCluster_High, MonthlyChargeCluster_Low, MonthlyChargeCluster_Mid, TotalChargeCluster_High, TotalChargeCluster_Low, TotalChargeCluster_Mid, proba, TenureCluster, MonthlyChargeCluster]\n",
       "Index: []\n",
       "\n",
       "[0 rows x 54 columns]"
      ]
     },
     "execution_count": 91,
     "metadata": {},
     "output_type": "execute_result"
    }
   ],
   "source": [
    "df_data[pd.to_numeric(df_data['TotalCharges'], errors='coerce').isnull()]"
   ]
  },
  {
   "cell_type": "code",
   "execution_count": 92,
   "metadata": {},
   "outputs": [
    {
     "data": {
      "text/plain": [
       "0"
      ]
     },
     "execution_count": 92,
     "metadata": {},
     "output_type": "execute_result"
    }
   ],
   "source": [
    "len(df_data[pd.to_numeric(df_data['TotalCharges'], errors='coerce').isnull()])"
   ]
  },
  {
   "cell_type": "code",
   "execution_count": 93,
   "metadata": {},
   "outputs": [],
   "source": [
    "df_data.loc[pd.to_numeric(df_data['TotalCharges'], errors='coerce').isnull(),'TotalCharges'] = np.nan"
   ]
  },
  {
   "cell_type": "code",
   "execution_count": 94,
   "metadata": {},
   "outputs": [],
   "source": [
    "df_data = df_data.dropna()"
   ]
  },
  {
   "cell_type": "code",
   "execution_count": 95,
   "metadata": {},
   "outputs": [],
   "source": [
    "df_data['TotalCharges'] = pd.to_numeric(df_data['TotalCharges'], errors='coerce')"
   ]
  },
  {
   "cell_type": "code",
   "execution_count": 97,
   "metadata": {},
   "outputs": [],
   "source": [
    "df_plot = df_data.copy()\n",
    "df_plot['TotalCharges'] = df_plot['TotalCharges'].astype(int)"
   ]
  },
  {
   "cell_type": "code",
   "execution_count": 99,
   "metadata": {},
   "outputs": [
    {
     "data": {
      "image/png": "[encoded data removed]",
      "text/plain": [
       "<Figure size 1152x576 with 1 Axes>"
      ]
     },
     "metadata": {
      "needs_background": "light"
     },
     "output_type": "display_data"
    }
   ],
   "source": [
    "sse={}\n",
    "df_cluster = df_data[['TotalCharges']]\n",
    "for k in range(1, 10):\n",
    "    kmeans = KMeans(n_clusters=k, max_iter=1000).fit(df_cluster)\n",
    "    df_cluster[\"clusters\"] = kmeans.labels_\n",
    "    sse[k] = kmeans.inertia_ \n",
    "plt.figure(figsize=(16,8))\n",
    "plt.plot(list(sse.keys()), list(sse.values()))\n",
    "plt.xlabel(\"Number of cluster\")\n",
    "plt.show()"
   ]
  },
  {
   "cell_type": "code",
   "execution_count": 100,
   "metadata": {},
   "outputs": [],
   "source": [
    "kmeans = KMeans(n_clusters=3)\n",
    "kmeans.fit(df_data[['TotalCharges']])\n",
    "df_data['TotalChargeCluster'] = kmeans.predict(df_data[['TotalCharges']])"
   ]
  },
  {
   "cell_type": "code",
   "execution_count": 101,
   "metadata": {},
   "outputs": [],
   "source": [
    "df_data = order_cluster('TotalChargeCluster', 'TotalCharges',df_data,True)"
   ]
  },
  {
   "cell_type": "code",
   "execution_count": 102,
   "metadata": {},
   "outputs": [
    {
     "data": {
      "text/html": [
       "<div>\n",
       "<style scoped>\n",
       "    .dataframe tbody tr th:only-of-type {\n",
       "        vertical-align: middle;\n",
       "    }\n",
       "\n",
       "    .dataframe tbody tr th {\n",
       "        vertical-align: top;\n",
       "    }\n",
       "\n",
       "    .dataframe thead th {\n",
       "        text-align: right;\n",
       "    }\n",
       "</style>\n",
       "<table border=\"1\" class=\"dataframe\">\n",
       "  <thead>\n",
       "    <tr style=\"text-align: right;\">\n",
       "      <th></th>\n",
       "      <th>count</th>\n",
       "      <th>mean</th>\n",
       "      <th>std</th>\n",
       "      <th>min</th>\n",
       "      <th>25%</th>\n",
       "      <th>50%</th>\n",
       "      <th>75%</th>\n",
       "      <th>max</th>\n",
       "    </tr>\n",
       "    <tr>\n",
       "      <th>TotalChargeCluster</th>\n",
       "      <th></th>\n",
       "      <th></th>\n",
       "      <th></th>\n",
       "      <th></th>\n",
       "      <th></th>\n",
       "      <th></th>\n",
       "      <th></th>\n",
       "      <th></th>\n",
       "    </tr>\n",
       "  </thead>\n",
       "  <tbody>\n",
       "    <tr>\n",
       "      <th>0</th>\n",
       "      <td>4160.0</td>\n",
       "      <td>686.204087</td>\n",
       "      <td>572.025502</td>\n",
       "      <td>18.80</td>\n",
       "      <td>161.4875</td>\n",
       "      <td>535.95</td>\n",
       "      <td>1139.4125</td>\n",
       "      <td>1975.85</td>\n",
       "    </tr>\n",
       "    <tr>\n",
       "      <th>1</th>\n",
       "      <td>1613.0</td>\n",
       "      <td>3272.602139</td>\n",
       "      <td>814.144302</td>\n",
       "      <td>1978.65</td>\n",
       "      <td>2548.6500</td>\n",
       "      <td>3211.20</td>\n",
       "      <td>3970.4000</td>\n",
       "      <td>4779.45</td>\n",
       "    </tr>\n",
       "    <tr>\n",
       "      <th>2</th>\n",
       "      <td>1259.0</td>\n",
       "      <td>6292.972558</td>\n",
       "      <td>1003.372938</td>\n",
       "      <td>4783.50</td>\n",
       "      <td>5468.7000</td>\n",
       "      <td>6145.85</td>\n",
       "      <td>7040.1500</td>\n",
       "      <td>8684.80</td>\n",
       "    </tr>\n",
       "  </tbody>\n",
       "</table>\n",
       "</div>"
      ],
      "text/plain": [
       "                     count         mean          std      min        25%  \\\n",
       "TotalChargeCluster                                                         \n",
       "0                   4160.0   686.204087   572.025502    18.80   161.4875   \n",
       "1                   1613.0  3272.602139   814.144302  1978.65  2548.6500   \n",
       "2                   1259.0  6292.972558  1003.372938  4783.50  5468.7000   \n",
       "\n",
       "                        50%        75%      max  \n",
       "TotalChargeCluster                               \n",
       "0                    535.95  1139.4125  1975.85  \n",
       "1                   3211.20  3970.4000  4779.45  \n",
       "2                   6145.85  7040.1500  8684.80  "
      ]
     },
     "execution_count": 102,
     "metadata": {},
     "output_type": "execute_result"
    }
   ],
   "source": [
    "df_data.groupby('TotalChargeCluster').TotalCharges.describe()"
   ]
  },
  {
   "cell_type": "code",
   "execution_count": 103,
   "metadata": {},
   "outputs": [],
   "source": [
    "df_data['TotalChargeCluster'] = df_data[\"TotalChargeCluster\"].replace({0:'Low',1:'Mid',2:'High'})"
   ]
  },
  {
   "cell_type": "code",
   "execution_count": 104,
   "metadata": {},
   "outputs": [
    {
     "data": {
      "image/png": "[encoded data removed]",
      "text/plain": [
       "<Figure size 576x288 with 1 Axes>"
      ]
     },
     "metadata": {
      "needs_background": "light"
     },
     "output_type": "display_data"
    }
   ],
   "source": [
    "plt.figure(figsize=(8,4))\n",
    "sns.barplot(x='TotalChargeCluster',y='Churn',data=df_data)\n",
    "plt.show()"
   ]
  },
  {
   "cell_type": "code",
   "execution_count": 105,
   "metadata": {},
   "outputs": [
    {
     "name": "stdout",
     "output_type": "stream",
     "text": [
      "<class 'pandas.core.frame.DataFrame'>\n",
      "Int64Index: 7032 entries, 0 to 7031\n",
      "Data columns (total 55 columns):\n",
      "customerID                                 7032 non-null object\n",
      "gender                                     7032 non-null int32\n",
      "SeniorCitizen                              7032 non-null int64\n",
      "Partner                                    7032 non-null int32\n",
      "Dependents                                 7032 non-null int32\n",
      "tenure                                     7032 non-null int64\n",
      "PhoneService                               7032 non-null int32\n",
      "PaperlessBilling                           7032 non-null int32\n",
      "MonthlyCharges                             7032 non-null float64\n",
      "TotalCharges                               7032 non-null float64\n",
      "Churn                                      7032 non-null int64\n",
      "MultipleLines_No                           7032 non-null uint8\n",
      "MultipleLines_No_phone_service             7032 non-null uint8\n",
      "MultipleLines_Yes                          7032 non-null uint8\n",
      "InternetService_DSL                        7032 non-null uint8\n",
      "InternetService_Fiber_optic                7032 non-null uint8\n",
      "InternetService_No                         7032 non-null uint8\n",
      "OnlineSecurity_No                          7032 non-null uint8\n",
      "OnlineSecurity_No_internet_service         7032 non-null uint8\n",
      "OnlineSecurity_Yes                         7032 non-null uint8\n",
      "OnlineBackup_No                            7032 non-null uint8\n",
      "OnlineBackup_No_internet_service           7032 non-null uint8\n",
      "OnlineBackup_Yes                           7032 non-null uint8\n",
      "DeviceProtection_No                        7032 non-null uint8\n",
      "DeviceProtection_No_internet_service       7032 non-null uint8\n",
      "DeviceProtection_Yes                       7032 non-null uint8\n",
      "TechSupport_No                             7032 non-null uint8\n",
      "TechSupport_No_internet_service            7032 non-null uint8\n",
      "TechSupport_Yes                            7032 non-null uint8\n",
      "StreamingTV_No                             7032 non-null uint8\n",
      "StreamingTV_No_internet_service            7032 non-null uint8\n",
      "StreamingTV_Yes                            7032 non-null uint8\n",
      "StreamingMovies_No                         7032 non-null uint8\n",
      "StreamingMovies_No_internet_service        7032 non-null uint8\n",
      "StreamingMovies_Yes                        7032 non-null uint8\n",
      "Contract_Month_to_month                    7032 non-null uint8\n",
      "Contract_One_year                          7032 non-null uint8\n",
      "Contract_Two_year                          7032 non-null uint8\n",
      "PaymentMethod_Bank_transfer__automatic_    7032 non-null uint8\n",
      "PaymentMethod_Credit_card__automatic_      7032 non-null uint8\n",
      "PaymentMethod_Electronic_check             7032 non-null uint8\n",
      "PaymentMethod_Mailed_check                 7032 non-null uint8\n",
      "TenureCluster_High                         7032 non-null uint8\n",
      "TenureCluster_Low                          7032 non-null uint8\n",
      "TenureCluster_Mid                          7032 non-null uint8\n",
      "MonthlyChargeCluster_High                  7032 non-null uint8\n",
      "MonthlyChargeCluster_Low                   7032 non-null uint8\n",
      "MonthlyChargeCluster_Mid                   7032 non-null uint8\n",
      "TotalChargeCluster_High                    7032 non-null uint8\n",
      "TotalChargeCluster_Low                     7032 non-null uint8\n",
      "TotalChargeCluster_Mid                     7032 non-null uint8\n",
      "proba                                      7032 non-null float32\n",
      "TenureCluster                              7032 non-null object\n",
      "MonthlyChargeCluster                       7032 non-null object\n",
      "TotalChargeCluster                         7032 non-null object\n",
      "dtypes: float32(1), float64(2), int32(5), int64(3), object(4), uint8(40)\n",
      "memory usage: 1.3+ MB\n"
     ]
    }
   ],
   "source": [
    "df_data.info()"
   ]
  },
  {
   "cell_type": "code",
   "execution_count": 106,
   "metadata": {},
   "outputs": [],
   "source": [
    "#import Label Encoder\n",
    "from sklearn.preprocessing import LabelEncoder\n",
    "le = LabelEncoder()\n",
    "dummy_columns = [] #array for multiple value columns\n",
    "\n",
    "for column in df_data.columns:\n",
    "    if df_data[column].dtype == object and column != 'customerID':\n",
    "        if df_data[column].nunique() == 2:\n",
    "            #apply Label Encoder for binary ones\n",
    "            df_data[column] = le.fit_transform(df_data[column]) \n",
    "        else:\n",
    "            dummy_columns.append(column)\n",
    "\n",
    "#apply get dummies for selected columns\n",
    "df_data = pd.get_dummies(data = df_data,columns = dummy_columns)"
   ]
  },
  {
   "cell_type": "code",
   "execution_count": 107,
   "metadata": {},
   "outputs": [
    {
     "data": {
      "text/html": [
       "<div>\n",
       "<style scoped>\n",
       "    .dataframe tbody tr th:only-of-type {\n",
       "        vertical-align: middle;\n",
       "    }\n",
       "\n",
       "    .dataframe tbody tr th {\n",
       "        vertical-align: top;\n",
       "    }\n",
       "\n",
       "    .dataframe thead th {\n",
       "        text-align: right;\n",
       "    }\n",
       "</style>\n",
       "<table border=\"1\" class=\"dataframe\">\n",
       "  <thead>\n",
       "    <tr style=\"text-align: right;\">\n",
       "      <th></th>\n",
       "      <th>gender</th>\n",
       "      <th>Partner</th>\n",
       "      <th>TenureCluster_High</th>\n",
       "      <th>TenureCluster_High</th>\n",
       "      <th>TenureCluster_Low</th>\n",
       "      <th>TenureCluster_Low</th>\n",
       "      <th>TenureCluster_Mid</th>\n",
       "      <th>TenureCluster_Mid</th>\n",
       "    </tr>\n",
       "  </thead>\n",
       "  <tbody>\n",
       "    <tr>\n",
       "      <th>0</th>\n",
       "      <td>0</td>\n",
       "      <td>1</td>\n",
       "      <td>0</td>\n",
       "      <td>0</td>\n",
       "      <td>1</td>\n",
       "      <td>1</td>\n",
       "      <td>0</td>\n",
       "      <td>0</td>\n",
       "    </tr>\n",
       "    <tr>\n",
       "      <th>1</th>\n",
       "      <td>0</td>\n",
       "      <td>0</td>\n",
       "      <td>0</td>\n",
       "      <td>0</td>\n",
       "      <td>1</td>\n",
       "      <td>1</td>\n",
       "      <td>0</td>\n",
       "      <td>0</td>\n",
       "    </tr>\n",
       "    <tr>\n",
       "      <th>2</th>\n",
       "      <td>1</td>\n",
       "      <td>0</td>\n",
       "      <td>0</td>\n",
       "      <td>0</td>\n",
       "      <td>1</td>\n",
       "      <td>1</td>\n",
       "      <td>0</td>\n",
       "      <td>0</td>\n",
       "    </tr>\n",
       "    <tr>\n",
       "      <th>3</th>\n",
       "      <td>1</td>\n",
       "      <td>0</td>\n",
       "      <td>0</td>\n",
       "      <td>0</td>\n",
       "      <td>1</td>\n",
       "      <td>1</td>\n",
       "      <td>0</td>\n",
       "      <td>0</td>\n",
       "    </tr>\n",
       "    <tr>\n",
       "      <th>4</th>\n",
       "      <td>1</td>\n",
       "      <td>1</td>\n",
       "      <td>0</td>\n",
       "      <td>0</td>\n",
       "      <td>1</td>\n",
       "      <td>1</td>\n",
       "      <td>0</td>\n",
       "      <td>0</td>\n",
       "    </tr>\n",
       "  </tbody>\n",
       "</table>\n",
       "</div>"
      ],
      "text/plain": [
       "   gender  Partner  TenureCluster_High  TenureCluster_High  TenureCluster_Low  \\\n",
       "0       0        1                   0                   0                  1   \n",
       "1       0        0                   0                   0                  1   \n",
       "2       1        0                   0                   0                  1   \n",
       "3       1        0                   0                   0                  1   \n",
       "4       1        1                   0                   0                  1   \n",
       "\n",
       "   TenureCluster_Low  TenureCluster_Mid  TenureCluster_Mid  \n",
       "0                  1                  0                  0  \n",
       "1                  1                  0                  0  \n",
       "2                  1                  0                  0  \n",
       "3                  1                  0                  0  \n",
       "4                  1                  0                  0  "
      ]
     },
     "execution_count": 107,
     "metadata": {},
     "output_type": "execute_result"
    }
   ],
   "source": [
    "df_data[['gender','Partner','TenureCluster_High','TenureCluster_Low','TenureCluster_Mid']].head()"
   ]
  },
  {
   "cell_type": "code",
   "execution_count": 108,
   "metadata": {},
   "outputs": [],
   "source": [
    "all_columns = []\n",
    "for column in df_data.columns:\n",
    "    column = column.replace(\" \", \"_\").replace(\"(\", \"_\").replace(\")\", \"_\").replace(\"-\", \"_\")\n",
    "    all_columns.append(column)\n",
    "\n",
    "df_data.columns = all_columns"
   ]
  },
  {
   "cell_type": "code",
   "execution_count": 109,
   "metadata": {},
   "outputs": [],
   "source": [
    "glm_columns = 'gender'\n",
    "\n",
    "for column in df_data.columns:\n",
    "    if column not in ['Churn','customerID','gender']:\n",
    "        glm_columns = glm_columns + ' + ' + column"
   ]
  },
  {
   "cell_type": "code",
   "execution_count": 110,
   "metadata": {},
   "outputs": [
    {
     "name": "stderr",
     "output_type": "stream",
     "text": [
      "C:\\Users\\Mehul Sharma\\Anaconda3\\lib\\site-packages\\statsmodels\\genmod\\families\\family.py:890: RuntimeWarning: invalid value encountered in true_divide\n",
      "  n_endog_mu = self._clean((1. - endog) / (1. - mu))\n",
      "C:\\Users\\Mehul Sharma\\Anaconda3\\lib\\site-packages\\statsmodels\\genmod\\families\\family.py:890: RuntimeWarning: divide by zero encountered in true_divide\n",
      "  n_endog_mu = self._clean((1. - endog) / (1. - mu))\n",
      "C:\\Users\\Mehul Sharma\\Anaconda3\\lib\\site-packages\\statsmodels\\genmod\\families\\family.py:889: RuntimeWarning: invalid value encountered in true_divide\n",
      "  endog_mu = self._clean(endog / mu)\n",
      "C:\\Users\\Mehul Sharma\\Anaconda3\\lib\\site-packages\\statsmodels\\genmod\\families\\family.py:889: RuntimeWarning: divide by zero encountered in true_divide\n",
      "  endog_mu = self._clean(endog / mu)\n"
     ]
    },
    {
     "name": "stdout",
     "output_type": "stream",
     "text": [
      "                 Generalized Linear Model Regression Results                  \n",
      "==============================================================================\n",
      "Dep. Variable:                  Churn   No. Observations:                 7032\n",
      "Model:                            GLM   Df Residuals:                     6997\n",
      "Model Family:                Binomial   Df Model:                           34\n",
      "Link Function:                  logit   Scale:                          1.0000\n",
      "Method:                          IRLS   Log-Likelihood:                    nan\n",
      "Date:                Sat, 07 Dec 2019   Deviance:                          nan\n",
      "Time:                        10:13:39   Pearson chi2:                 8.85e+18\n",
      "No. Iterations:                   100                                         \n",
      "Covariance Type:            nonrobust                                         \n",
      "===========================================================================================================\n",
      "                                              coef    std err          z      P>|z|      [0.025      0.975]\n",
      "-----------------------------------------------------------------------------------------------------------\n",
      "Intercept                                9.755e+13   5.76e+06   1.69e+07      0.000    9.75e+13    9.75e+13\n",
      "gender                                   3.768e+13    1.6e+06   2.35e+07      0.000    3.77e+13    3.77e+13\n",
      "SeniorCitizen                           -1.194e+13   2.36e+06  -5.06e+06      0.000   -1.19e+13   -1.19e+13\n",
      "Partner                                 -5.738e+13   1.94e+06  -2.96e+07      0.000   -5.74e+13   -5.74e+13\n",
      "Dependents                               9.344e+13   2.06e+06   4.54e+07      0.000    9.34e+13    9.34e+13\n",
      "tenure                                  -1.482e+12   1.58e+05  -9.37e+06      0.000   -1.48e+12   -1.48e+12\n",
      "PhoneService                              2.93e+14   9.48e+06   3.09e+07      0.000    2.93e+14    2.93e+14\n",
      "PaperlessBilling                        -9.128e+12   1.82e+06  -5.02e+06      0.000   -9.13e+12   -9.13e+12\n",
      "MonthlyCharges                          -5.245e+13   7.86e+05  -6.67e+07      0.000   -5.24e+13   -5.24e+13\n",
      "TotalCharges                              4.65e+11   1986.495   2.34e+08      0.000    4.65e+11    4.65e+11\n",
      "MultipleLines_No                          2.12e+13   2.99e+06    7.1e+06      0.000    2.12e+13    2.12e+13\n",
      "MultipleLines_No_phone_service          -1.955e+14   4.25e+06   -4.6e+07      0.000   -1.95e+14   -1.95e+14\n",
      "MultipleLines_Yes                        2.718e+14   6.76e+06   4.02e+07      0.000    2.72e+14    2.72e+14\n",
      "InternetService_DSL                       -5.7e+13   5.88e+06   -9.7e+06      0.000    -5.7e+13    -5.7e+13\n",
      "InternetService_Fiber_optic              2.819e+14   1.39e+07   2.03e+07      0.000    2.82e+14    2.82e+14\n",
      "InternetService_No                      -1.274e+14   2.53e+06  -5.03e+07      0.000   -1.27e+14   -1.27e+14\n",
      "OnlineSecurity_No                        1.122e+13   2.37e+06   4.74e+06      0.000    1.12e+13    1.12e+13\n",
      "OnlineSecurity_No_internet_service      -1.274e+14   2.53e+06  -5.03e+07      0.000   -1.27e+14   -1.27e+14\n",
      "OnlineSecurity_Yes                       2.137e+14   6.11e+06    3.5e+07      0.000    2.14e+14    2.14e+14\n",
      "OnlineBackup_No                         -3.826e+13   2.34e+06  -1.63e+07      0.000   -3.83e+13   -3.83e+13\n",
      "OnlineBackup_No_internet_service        -1.274e+14   2.53e+06  -5.03e+07      0.000   -1.27e+14   -1.27e+14\n",
      "OnlineBackup_Yes                         2.632e+14   6.09e+06   4.32e+07      0.000    2.63e+14    2.63e+14\n",
      "DeviceProtection_No                      3.962e+13   2.34e+06   1.69e+07      0.000    3.96e+13    3.96e+13\n",
      "DeviceProtection_No_internet_service    -1.274e+14   2.53e+06  -5.03e+07      0.000   -1.27e+14   -1.27e+14\n",
      "DeviceProtection_Yes                     1.853e+14    6.1e+06   3.04e+07      0.000    1.85e+14    1.85e+14\n",
      "TechSupport_No                           1.816e+13   2.38e+06   7.64e+06      0.000    1.82e+13    1.82e+13\n",
      "TechSupport_No_internet_service         -1.274e+14   2.53e+06  -5.03e+07      0.000   -1.27e+14   -1.27e+14\n",
      "TechSupport_Yes                          2.067e+14   6.11e+06   3.38e+07      0.000    2.07e+14    2.07e+14\n",
      "StreamingTV_No                          -1.325e+14   1.14e+06  -1.16e+08      0.000   -1.32e+14   -1.32e+14\n",
      "StreamingTV_No_internet_service         -1.274e+14   2.53e+06  -5.03e+07      0.000   -1.27e+14   -1.27e+14\n",
      "StreamingTV_Yes                          3.574e+14   8.02e+06   4.46e+07      0.000    3.57e+14    3.57e+14\n",
      "StreamingMovies_No                      -1.375e+14   1.15e+06  -1.19e+08      0.000   -1.37e+14   -1.37e+14\n",
      "StreamingMovies_No_internet_service     -1.274e+14   2.53e+06  -5.03e+07      0.000   -1.27e+14   -1.27e+14\n",
      "StreamingMovies_Yes                      3.624e+14   8.02e+06   4.52e+07      0.000    3.62e+14    3.62e+14\n",
      "Contract_Month_to_month                  5.963e+14   2.55e+06   2.34e+08      0.000    5.96e+14    5.96e+14\n",
      "Contract_One_year                        2.701e+14   2.39e+06   1.13e+08      0.000     2.7e+14     2.7e+14\n",
      "Contract_Two_year                       -7.689e+14   2.64e+06  -2.92e+08      0.000   -7.69e+14   -7.69e+14\n",
      "PaymentMethod_Bank_transfer__automatic_   3.46e+13    2.1e+06   1.65e+07      0.000    3.46e+13    3.46e+13\n",
      "PaymentMethod_Credit_card__automatic_    4.667e+11    2.1e+06   2.22e+05      0.000    4.67e+11    4.67e+11\n",
      "PaymentMethod_Electronic_check          -5.318e+13   2.09e+06  -2.55e+07      0.000   -5.32e+13   -5.32e+13\n",
      "PaymentMethod_Mailed_check               1.157e+14   2.14e+06    5.4e+07      0.000    1.16e+14    1.16e+14\n",
      "TenureCluster_High[0]                    1.721e+14   6.88e+06    2.5e+07      0.000    1.72e+14    1.72e+14\n",
      "TenureCluster_High[1]                   -4.014e+14   6.83e+06  -5.88e+07      0.000   -4.01e+14   -4.01e+14\n",
      "TenureCluster_Low[0]                    -4.054e+14   6.79e+06  -5.97e+07      0.000   -4.05e+14   -4.05e+14\n",
      "TenureCluster_Low[1]                     4.955e+14   6.89e+06   7.19e+07      0.000    4.96e+14    4.96e+14\n",
      "TenureCluster_Mid[0]                     3.308e+14   4.48e+06   7.38e+07      0.000    3.31e+14    3.31e+14\n",
      "TenureCluster_Mid[1]                     3.404e+12   4.47e+06   7.61e+05      0.000     3.4e+12     3.4e+12\n",
      "MonthlyChargeCluster_High[0]            -1.877e+15    2.4e+07  -7.83e+07      0.000   -1.88e+15   -1.88e+15\n",
      "MonthlyChargeCluster_High[1]             2.202e+15   2.39e+07   9.23e+07      0.000     2.2e+15     2.2e+15\n",
      "MonthlyChargeCluster_Low[0]               1.13e+13   2.81e+06   4.01e+06      0.000    1.13e+13    1.13e+13\n",
      "MonthlyChargeCluster_Low[1]               1.13e+13   2.81e+06   4.01e+06      0.000    1.13e+13    1.13e+13\n",
      "MonthlyChargeCluster_Mid[0]              1.963e+15   2.38e+07   8.25e+07      0.000    1.96e+15    1.96e+15\n",
      "MonthlyChargeCluster_Mid[1]             -2.116e+15   2.39e+07  -8.84e+07      0.000   -2.12e+15   -2.12e+15\n",
      "TotalChargeCluster_High[0]               -1.06e+14    2.8e+06  -3.79e+07      0.000   -1.06e+14   -1.06e+14\n",
      "TotalChargeCluster_High[1]               -1.06e+14    2.8e+06  -3.79e+07      0.000   -1.06e+14   -1.06e+14\n",
      "TotalChargeCluster_Low[0]               -1.708e+15   3.38e+07  -5.06e+07      0.000   -1.71e+15   -1.71e+15\n",
      "TotalChargeCluster_Low[1]                1.875e+15   3.38e+07   5.56e+07      0.000    1.88e+15    1.88e+15\n",
      "TotalChargeCluster_Mid[0]                1.911e+15   3.37e+07   5.66e+07      0.000    1.91e+15    1.91e+15\n",
      "TotalChargeCluster_Mid[1]               -1.672e+15   3.37e+07  -4.96e+07      0.000   -1.67e+15   -1.67e+15\n",
      "proba                                    3.144e+15   7.76e+06   4.05e+08      0.000    3.14e+15    3.14e+15\n",
      "===========================================================================================================\n"
     ]
    },
    {
     "name": "stderr",
     "output_type": "stream",
     "text": [
      "C:\\Users\\Mehul Sharma\\Anaconda3\\lib\\site-packages\\statsmodels\\genmod\\families\\family.py:942: RuntimeWarning: divide by zero encountered in true_divide\n",
      "  special.gammaln(n - y + 1) + y * np.log(mu / (1 - mu)) +\n",
      "C:\\Users\\Mehul Sharma\\Anaconda3\\lib\\site-packages\\statsmodels\\genmod\\families\\family.py:942: RuntimeWarning: divide by zero encountered in log\n",
      "  special.gammaln(n - y + 1) + y * np.log(mu / (1 - mu)) +\n",
      "C:\\Users\\Mehul Sharma\\Anaconda3\\lib\\site-packages\\statsmodels\\genmod\\families\\family.py:942: RuntimeWarning: invalid value encountered in multiply\n",
      "  special.gammaln(n - y + 1) + y * np.log(mu / (1 - mu)) +\n",
      "C:\\Users\\Mehul Sharma\\Anaconda3\\lib\\site-packages\\statsmodels\\genmod\\families\\family.py:943: RuntimeWarning: divide by zero encountered in log\n",
      "  n * np.log(1 - mu)) * var_weights\n",
      "C:\\Users\\Mehul Sharma\\Anaconda3\\lib\\site-packages\\statsmodels\\genmod\\families\\family.py:943: RuntimeWarning: invalid value encountered in add\n",
      "  n * np.log(1 - mu)) * var_weights\n"
     ]
    }
   ],
   "source": [
    "import statsmodels.api as sm\n",
    "import statsmodels.formula.api as smf\n",
    " \n",
    "\n",
    "glm_model = smf.glm(formula='Churn ~ {}'.format(glm_columns), data=df_data, family=sm.families.Binomial())\n",
    "res = glm_model.fit()\n",
    "print(res.summary())"
   ]
  },
  {
   "cell_type": "code",
   "execution_count": 111,
   "metadata": {},
   "outputs": [
    {
     "data": {
      "text/plain": [
       "Intercept                                  inf\n",
       "gender                                     inf\n",
       "SeniorCitizen                              0.0\n",
       "Partner                                    0.0\n",
       "Dependents                                 inf\n",
       "tenure                                     0.0\n",
       "PhoneService                               inf\n",
       "PaperlessBilling                           0.0\n",
       "MonthlyCharges                             0.0\n",
       "TotalCharges                               inf\n",
       "MultipleLines_No                           inf\n",
       "MultipleLines_No_phone_service             0.0\n",
       "MultipleLines_Yes                          inf\n",
       "InternetService_DSL                        0.0\n",
       "InternetService_Fiber_optic                inf\n",
       "InternetService_No                         0.0\n",
       "OnlineSecurity_No                          inf\n",
       "OnlineSecurity_No_internet_service         0.0\n",
       "OnlineSecurity_Yes                         inf\n",
       "OnlineBackup_No                            0.0\n",
       "OnlineBackup_No_internet_service           0.0\n",
       "OnlineBackup_Yes                           inf\n",
       "DeviceProtection_No                        inf\n",
       "DeviceProtection_No_internet_service       0.0\n",
       "DeviceProtection_Yes                       inf\n",
       "TechSupport_No                             inf\n",
       "TechSupport_No_internet_service            0.0\n",
       "TechSupport_Yes                            inf\n",
       "StreamingTV_No                             0.0\n",
       "StreamingTV_No_internet_service            0.0\n",
       "StreamingTV_Yes                            inf\n",
       "StreamingMovies_No                         0.0\n",
       "StreamingMovies_No_internet_service        0.0\n",
       "StreamingMovies_Yes                        inf\n",
       "Contract_Month_to_month                    inf\n",
       "Contract_One_year                          inf\n",
       "Contract_Two_year                          0.0\n",
       "PaymentMethod_Bank_transfer__automatic_    inf\n",
       "PaymentMethod_Credit_card__automatic_      inf\n",
       "PaymentMethod_Electronic_check             0.0\n",
       "PaymentMethod_Mailed_check                 inf\n",
       "TenureCluster_High[0]                      inf\n",
       "TenureCluster_High[1]                      0.0\n",
       "TenureCluster_Low[0]                       0.0\n",
       "TenureCluster_Low[1]                       inf\n",
       "TenureCluster_Mid[0]                       inf\n",
       "TenureCluster_Mid[1]                       inf\n",
       "MonthlyChargeCluster_High[0]               0.0\n",
       "MonthlyChargeCluster_High[1]               inf\n",
       "MonthlyChargeCluster_Low[0]                inf\n",
       "MonthlyChargeCluster_Low[1]                inf\n",
       "MonthlyChargeCluster_Mid[0]                inf\n",
       "MonthlyChargeCluster_Mid[1]                0.0\n",
       "TotalChargeCluster_High[0]                 0.0\n",
       "TotalChargeCluster_High[1]                 0.0\n",
       "TotalChargeCluster_Low[0]                  0.0\n",
       "TotalChargeCluster_Low[1]                  inf\n",
       "TotalChargeCluster_Mid[0]                  inf\n",
       "TotalChargeCluster_Mid[1]                  0.0\n",
       "proba                                      inf\n",
       "dtype: float64"
      ]
     },
     "execution_count": 111,
     "metadata": {},
     "output_type": "execute_result"
    }
   ],
   "source": [
    "np.exp(res.params)"
   ]
  },
  {
   "cell_type": "code",
   "execution_count": 112,
   "metadata": {},
   "outputs": [],
   "source": [
    "import xgboost as xgb"
   ]
  },
  {
   "cell_type": "code",
   "execution_count": 60,
   "metadata": {},
   "outputs": [
    {
     "name": "stdout",
     "output_type": "stream",
     "text": [
      "Accuracy of XGB classifier on training set: 0.84\n",
      "Accuracy of XGB classifier on test set: 0.79\n"
     ]
    }
   ],
   "source": [
    "#create feature set and labels\n",
    "X = df_data.drop(['Churn','customerID'],axis=1)\n",
    "y = df_data.Churn\n",
    "#train and test split\n",
    "X_train, X_test, y_train, y_test = train_test_split(X, y, test_size=0.05, random_state=56)\n",
    "#building the model\n",
    "xgb_model = xgb.XGBClassifier(max_depth=5, learning_rate=0.08, objective= 'binary:logistic',n_jobs=-1).fit(X_train, y_train)\n",
    "\n",
    "print('Accuracy of XGB classifier on training set: {:.2f}'\n",
    "       .format(xgb_model.score(X_train, y_train)))\n",
    "print('Accuracy of XGB classifier on test set: {:.2f}'\n",
    "       .format(xgb_model.score(X_test[X_train.columns], y_test)))\n",
    "y_pred = xgb_model.predict(X_test)"
   ]
  },
  {
   "cell_type": "code",
   "execution_count": 61,
   "metadata": {},
   "outputs": [
    {
     "name": "stdout",
     "output_type": "stream",
     "text": [
      "              precision    recall  f1-score   support\n",
      "\n",
      "           0       0.84      0.87      0.86       260\n",
      "           1       0.60      0.54      0.57        92\n",
      "\n",
      "    accuracy                           0.79       352\n",
      "   macro avg       0.72      0.71      0.71       352\n",
      "weighted avg       0.78      0.79      0.78       352\n",
      "\n"
     ]
    }
   ],
   "source": [
    "print(classification_report(y_test, y_pred))"
   ]
  },
  {
   "cell_type": "code",
   "execution_count": null,
   "metadata": {},
   "outputs": [],
   "source": []
  },
  {
   "cell_type": "code",
   "execution_count": 62,
   "metadata": {},
   "outputs": [
    {
     "data": {
      "text/plain": [
       "<matplotlib.axes._subplots.AxesSubplot at 0x16ac4547dd8>"
      ]
     },
     "execution_count": 62,
     "metadata": {},
     "output_type": "execute_result"
    },
    {
     "data": {
      "image/png": "[encoded data removed]",
      "text/plain": [
       "<Figure size 720x576 with 1 Axes>"
      ]
     },
     "metadata": {
      "needs_background": "light"
     },
     "output_type": "display_data"
    }
   ],
   "source": [
    "from xgboost import plot_importance\n",
    "fig, ax = plt.subplots(figsize=(10,8))\n",
    "plot_importance(xgb_model, ax=ax)"
   ]
  },
  {
   "cell_type": "code",
   "execution_count": 63,
   "metadata": {},
   "outputs": [
    {
     "data": {
      "text/html": [
       "<div>\n",
       "<style scoped>\n",
       "    .dataframe tbody tr th:only-of-type {\n",
       "        vertical-align: middle;\n",
       "    }\n",
       "\n",
       "    .dataframe tbody tr th {\n",
       "        vertical-align: top;\n",
       "    }\n",
       "\n",
       "    .dataframe thead th {\n",
       "        text-align: right;\n",
       "    }\n",
       "</style>\n",
       "<table border=\"1\" class=\"dataframe\">\n",
       "  <thead>\n",
       "    <tr style=\"text-align: right;\">\n",
       "      <th></th>\n",
       "      <th>customerID</th>\n",
       "      <th>proba</th>\n",
       "    </tr>\n",
       "  </thead>\n",
       "  <tbody>\n",
       "    <tr>\n",
       "      <th>0</th>\n",
       "      <td>7590-VHVEG</td>\n",
       "      <td>0.580691</td>\n",
       "    </tr>\n",
       "    <tr>\n",
       "      <th>1</th>\n",
       "      <td>6713-OKOMC</td>\n",
       "      <td>0.175894</td>\n",
       "    </tr>\n",
       "    <tr>\n",
       "      <th>2</th>\n",
       "      <td>7469-LKBCI</td>\n",
       "      <td>0.016826</td>\n",
       "    </tr>\n",
       "    <tr>\n",
       "      <th>3</th>\n",
       "      <td>8779-QRDMV</td>\n",
       "      <td>0.915089</td>\n",
       "    </tr>\n",
       "    <tr>\n",
       "      <th>4</th>\n",
       "      <td>1680-VDCWW</td>\n",
       "      <td>0.038087</td>\n",
       "    </tr>\n",
       "  </tbody>\n",
       "</table>\n",
       "</div>"
      ],
      "text/plain": [
       "   customerID     proba\n",
       "0  7590-VHVEG  0.580691\n",
       "1  6713-OKOMC  0.175894\n",
       "2  7469-LKBCI  0.016826\n",
       "3  8779-QRDMV  0.915089\n",
       "4  1680-VDCWW  0.038087"
      ]
     },
     "execution_count": 63,
     "metadata": {},
     "output_type": "execute_result"
    }
   ],
   "source": [
    "df_data['proba'] = xgb_model.predict_proba(df_data[X_train.columns])[:,1]\n",
    "df_data[['customerID', 'proba']].head()"
   ]
  },
  {
   "cell_type": "code",
   "execution_count": null,
   "metadata": {},
   "outputs": [],
   "source": []
  }
 ],
 "metadata": {
  "kernelspec": {
   "display_name": "Python 3",
   "language": "python",
   "name": "python3"
  },
  "language_info": {
   "codemirror_mode": {
    "name": "ipython",
    "version": 3
   },
   "file_extension": ".py",
   "mimetype": "text/x-python",
   "name": "python",
   "nbconvert_exporter": "python",
   "pygments_lexer": "ipython3",
   "version": "3.7.3"
  }
 },
 "nbformat": 4,
 "nbformat_minor": 2
}
