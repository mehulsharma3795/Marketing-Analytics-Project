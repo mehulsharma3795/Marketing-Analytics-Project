{
 "cells": [
  {
   "cell_type": "markdown",
   "metadata": {},
   "source": [
    "__Uplift Modelling__\n",
    "Suppose you are about to launch a promotional campaign and you know which segment to target. Then we don't need to send offer to\n",
    "everyone.In your current segment there will be customers who would buy anyways. We can segment customers based on this approach \n",
    "in four groups:-\n",
    "- __Treatment Responders__- Customers who will purchase only if they will get an offer.\n",
    "- __Treatment Non-Responder__ - Customers who will not purchase purchase in any case.\n",
    "- __Control Responders__ - Customers who will purchase without an offer\n",
    "- __Control Non Responders__ - Customers who will not purchase if they don't receive an offer."
   ]
  },
  {
   "cell_type": "markdown",
   "metadata": {},
   "source": [
    "We need to target Treatment Responders(TR) and Control Non Responders(CNR) as they will not buy without an offer. These segments\n",
    "will help in boosting the uplift in your promotional campaigns. Whereas Targeting Treatment Non Responders(TNR) and Control \n",
    "Responders(CR) will cannabilize your promotional campaign."
   ]
  },
  {
   "cell_type": "markdown",
   "metadata": {},
   "source": [
    "There is one last simple thing to do. We need to identify which customers fall into which buckets. The answer is Uplift Modeling. It has two simple steps:\n",
    "- Predict the probabilities of being in each group for all customers: we are going to build a multi-classification model for that.\n",
    "- We will calculate the uplift score. Uplift score formula is:\n"
   ]
  },
  {
   "attachments": {
    "Capture.PNG": {
     "image/png": "[encoded data removed]"
    }
   },
   "cell_type": "markdown",
   "metadata": {},
   "source": [
    "![Capture.PNG](attachment:Capture.PNG)\n",
    "We will sum up the probability of being TR and CN and subtract the probability of falling into other buckets. The higher score means higher uplift."
   ]
  },
  {
   "cell_type": "code",
   "execution_count": 19,
   "metadata": {},
   "outputs": [],
   "source": [
    "from datetime import datetime, timedelta,date\n",
    "import pandas as pd\n",
    "%matplotlib inline\n",
    "from sklearn.metrics import classification_report,confusion_matrix\n",
    "import matplotlib.pyplot as plt\n",
    "import numpy as np\n",
    "import seaborn as sns\n",
    "from sklearn.cluster import KMeans\n",
    "import sklearn\n",
    "from sklearn.model_selection import KFold, cross_val_score, train_test_split\n",
    "import xgboost as xgb"
   ]
  },
  {
   "cell_type": "code",
   "execution_count": 8,
   "metadata": {},
   "outputs": [],
   "source": [
    "#function to order clusters\n",
    "def order_cluster(cluster_field_name, target_field_name,df,ascending):\n",
    "    new_cluster_field_name = 'new_' + cluster_field_name\n",
    "    df_new = df.groupby(cluster_field_name)[target_field_name].mean().reset_index()\n",
    "    df_new = df_new.sort_values(by=target_field_name,ascending=ascending).reset_index(drop=True)\n",
    "    df_new['index'] = df_new.index\n",
    "    df_final = pd.merge(df,df_new[[cluster_field_name,'index']], on=cluster_field_name)\n",
    "    df_final = df_final.drop([cluster_field_name],axis=1)\n",
    "    df_final = df_final.rename(columns={\"index\":cluster_field_name})\n",
    "    return df_final"
   ]
  },
  {
   "cell_type": "code",
   "execution_count": 9,
   "metadata": {},
   "outputs": [],
   "source": [
    "def calc_uplift(df):\n",
    "    avg_order_value = 25\n",
    "    \n",
    "    #calculate conversions for each offer type\n",
    "    base_conv = df[df.offer == 'No Offer']['conversion'].mean()\n",
    "    disc_conv = df[df.offer == 'Discount']['conversion'].mean()\n",
    "    bogo_conv = df[df.offer == 'Buy One Get One']['conversion'].mean()\n",
    "    \n",
    "    #calculate conversion uplift for discount and bogo\n",
    "    disc_conv_uplift = disc_conv - base_conv\n",
    "    bogo_conv_uplift = bogo_conv - base_conv\n",
    "    \n",
    "    #calculate order uplift\n",
    "    disc_order_uplift = disc_conv_uplift * len(df[df.offer == 'Discount']['conversion'])\n",
    "    bogo_order_uplift = bogo_conv_uplift * len(df[df.offer == 'Buy One Get One']['conversion'])\n",
    "    \n",
    "    #calculate revenue uplift\n",
    "    disc_rev_uplift = disc_order_uplift * avg_order_value\n",
    "    bogo_rev_uplift = bogo_order_uplift * avg_order_value\n",
    "    \n",
    "    \n",
    "    print('Discount Conversion Uplift: {0}%'.format(np.round(disc_conv_uplift*100,2)))\n",
    "    print('Discount Order Uplift: {0}'.format(np.round(disc_order_uplift,2)))\n",
    "    print('Discount Revenue Uplift: ${0}\\n'.format(np.round(disc_rev_uplift,2)))\n",
    "    \n",
    "    if len(df[df.offer == 'Buy One Get One']['conversion']) > 0:\n",
    "          \n",
    "        print('-------------- \\n')\n",
    "        print('BOGO Conversion Uplift: {0}%'.format(np.round(bogo_conv_uplift*100,2)))\n",
    "        print('BOGO Order Uplift: {0}'.format(np.round(bogo_order_uplift,2)))\n",
    "        print('BOGO Revenue Uplift: ${0}'.format(np.round(bogo_rev_uplift,2)))   "
   ]
  },
  {
   "cell_type": "code",
   "execution_count": 10,
   "metadata": {},
   "outputs": [
    {
     "data": {
      "text/html": [
       "<div>\n",
       "<style scoped>\n",
       "    .dataframe tbody tr th:only-of-type {\n",
       "        vertical-align: middle;\n",
       "    }\n",
       "\n",
       "    .dataframe tbody tr th {\n",
       "        vertical-align: top;\n",
       "    }\n",
       "\n",
       "    .dataframe thead th {\n",
       "        text-align: right;\n",
       "    }\n",
       "</style>\n",
       "<table border=\"1\" class=\"dataframe\">\n",
       "  <thead>\n",
       "    <tr style=\"text-align: right;\">\n",
       "      <th></th>\n",
       "      <th>recency</th>\n",
       "      <th>history</th>\n",
       "      <th>used_discount</th>\n",
       "      <th>used_bogo</th>\n",
       "      <th>zip_code</th>\n",
       "      <th>is_referral</th>\n",
       "      <th>channel</th>\n",
       "      <th>offer</th>\n",
       "      <th>conversion</th>\n",
       "    </tr>\n",
       "  </thead>\n",
       "  <tbody>\n",
       "    <tr>\n",
       "      <th>0</th>\n",
       "      <td>10</td>\n",
       "      <td>142.44</td>\n",
       "      <td>1</td>\n",
       "      <td>0</td>\n",
       "      <td>Surburban</td>\n",
       "      <td>0</td>\n",
       "      <td>Phone</td>\n",
       "      <td>Buy One Get One</td>\n",
       "      <td>0</td>\n",
       "    </tr>\n",
       "    <tr>\n",
       "      <th>1</th>\n",
       "      <td>6</td>\n",
       "      <td>329.08</td>\n",
       "      <td>1</td>\n",
       "      <td>1</td>\n",
       "      <td>Rural</td>\n",
       "      <td>1</td>\n",
       "      <td>Web</td>\n",
       "      <td>No Offer</td>\n",
       "      <td>0</td>\n",
       "    </tr>\n",
       "    <tr>\n",
       "      <th>2</th>\n",
       "      <td>7</td>\n",
       "      <td>180.65</td>\n",
       "      <td>0</td>\n",
       "      <td>1</td>\n",
       "      <td>Surburban</td>\n",
       "      <td>1</td>\n",
       "      <td>Web</td>\n",
       "      <td>Buy One Get One</td>\n",
       "      <td>0</td>\n",
       "    </tr>\n",
       "    <tr>\n",
       "      <th>3</th>\n",
       "      <td>9</td>\n",
       "      <td>675.83</td>\n",
       "      <td>1</td>\n",
       "      <td>0</td>\n",
       "      <td>Rural</td>\n",
       "      <td>1</td>\n",
       "      <td>Web</td>\n",
       "      <td>Discount</td>\n",
       "      <td>0</td>\n",
       "    </tr>\n",
       "    <tr>\n",
       "      <th>4</th>\n",
       "      <td>2</td>\n",
       "      <td>45.34</td>\n",
       "      <td>1</td>\n",
       "      <td>0</td>\n",
       "      <td>Urban</td>\n",
       "      <td>0</td>\n",
       "      <td>Web</td>\n",
       "      <td>Buy One Get One</td>\n",
       "      <td>0</td>\n",
       "    </tr>\n",
       "    <tr>\n",
       "      <th>5</th>\n",
       "      <td>6</td>\n",
       "      <td>134.83</td>\n",
       "      <td>0</td>\n",
       "      <td>1</td>\n",
       "      <td>Surburban</td>\n",
       "      <td>0</td>\n",
       "      <td>Phone</td>\n",
       "      <td>Buy One Get One</td>\n",
       "      <td>1</td>\n",
       "    </tr>\n",
       "    <tr>\n",
       "      <th>6</th>\n",
       "      <td>9</td>\n",
       "      <td>280.20</td>\n",
       "      <td>1</td>\n",
       "      <td>0</td>\n",
       "      <td>Surburban</td>\n",
       "      <td>1</td>\n",
       "      <td>Phone</td>\n",
       "      <td>Buy One Get One</td>\n",
       "      <td>0</td>\n",
       "    </tr>\n",
       "    <tr>\n",
       "      <th>7</th>\n",
       "      <td>9</td>\n",
       "      <td>46.42</td>\n",
       "      <td>0</td>\n",
       "      <td>1</td>\n",
       "      <td>Urban</td>\n",
       "      <td>0</td>\n",
       "      <td>Phone</td>\n",
       "      <td>Buy One Get One</td>\n",
       "      <td>0</td>\n",
       "    </tr>\n",
       "    <tr>\n",
       "      <th>8</th>\n",
       "      <td>9</td>\n",
       "      <td>675.07</td>\n",
       "      <td>1</td>\n",
       "      <td>1</td>\n",
       "      <td>Rural</td>\n",
       "      <td>1</td>\n",
       "      <td>Phone</td>\n",
       "      <td>Discount</td>\n",
       "      <td>0</td>\n",
       "    </tr>\n",
       "    <tr>\n",
       "      <th>9</th>\n",
       "      <td>10</td>\n",
       "      <td>32.84</td>\n",
       "      <td>0</td>\n",
       "      <td>1</td>\n",
       "      <td>Urban</td>\n",
       "      <td>1</td>\n",
       "      <td>Web</td>\n",
       "      <td>Buy One Get One</td>\n",
       "      <td>0</td>\n",
       "    </tr>\n",
       "  </tbody>\n",
       "</table>\n",
       "</div>"
      ],
      "text/plain": [
       "   recency  history  used_discount  used_bogo   zip_code  is_referral channel  \\\n",
       "0       10   142.44              1          0  Surburban            0   Phone   \n",
       "1        6   329.08              1          1      Rural            1     Web   \n",
       "2        7   180.65              0          1  Surburban            1     Web   \n",
       "3        9   675.83              1          0      Rural            1     Web   \n",
       "4        2    45.34              1          0      Urban            0     Web   \n",
       "5        6   134.83              0          1  Surburban            0   Phone   \n",
       "6        9   280.20              1          0  Surburban            1   Phone   \n",
       "7        9    46.42              0          1      Urban            0   Phone   \n",
       "8        9   675.07              1          1      Rural            1   Phone   \n",
       "9       10    32.84              0          1      Urban            1     Web   \n",
       "\n",
       "             offer  conversion  \n",
       "0  Buy One Get One           0  \n",
       "1         No Offer           0  \n",
       "2  Buy One Get One           0  \n",
       "3         Discount           0  \n",
       "4  Buy One Get One           0  \n",
       "5  Buy One Get One           1  \n",
       "6  Buy One Get One           0  \n",
       "7  Buy One Get One           0  \n",
       "8         Discount           0  \n",
       "9  Buy One Get One           0  "
      ]
     },
     "execution_count": 10,
     "metadata": {},
     "output_type": "execute_result"
    }
   ],
   "source": [
    "df_data = pd.read_csv('data.csv')\n",
    "df_data.head(10)"
   ]
  },
  {
   "cell_type": "markdown",
   "metadata": {},
   "source": [
    "Column descriptions are as follows:\n",
    "- recency: months since last purchase\n",
    "- history: $value of the historical purchases\n",
    "- used_discount/used_bogo: indicates if the customer used a discount or buy one get one before\n",
    "- zip_code: class of the zip code as Suburban/Urban/Rural\n",
    "- is_referral: indicates if the customer was acquired from referral channel\n",
    "- channel: channels that the customer using, Phone/Web/Multichannel\n",
    "- offer: the offers sent to the customers, Discount/But One Get One/No Offer- - "
   ]
  },
  {
   "cell_type": "code",
   "execution_count": 11,
   "metadata": {},
   "outputs": [
    {
     "name": "stdout",
     "output_type": "stream",
     "text": [
      "Discount Conversion Uplift: 7.66%\n",
      "Discount Order Uplift: 1631.89\n",
      "Discount Revenue Uplift: $40797.35\n",
      "\n",
      "-------------- \n",
      "\n",
      "BOGO Conversion Uplift: 4.52%\n",
      "BOGO Order Uplift: 967.4\n",
      "BOGO Revenue Uplift: $24185.01\n"
     ]
    }
   ],
   "source": [
    "calc_uplift(df_data)"
   ]
  },
  {
   "cell_type": "markdown",
   "metadata": {},
   "source": [
    "__Multi Classification Model__\n",
    "Currently, our label is if a customer converted or not (1 or 0). We need to create four classes for TR, TN, CR, and CN. We \n",
    "know that the customers who received discount and bogo offers are Treatment and the rest is control. Let’s create a \n",
    "campaign_group column make this info visible:"
   ]
  },
  {
   "cell_type": "code",
   "execution_count": 12,
   "metadata": {},
   "outputs": [],
   "source": [
    "df_data['campaign_group'] = 'treatment'\n",
    "df_data.loc[df_data.offer == 'No Offer', 'campaign_group'] = 'control'"
   ]
  },
  {
   "cell_type": "code",
   "execution_count": 13,
   "metadata": {},
   "outputs": [],
   "source": [
    "df_data['target_class'] = 0 #CN\n",
    "df_data.loc[(df_data.campaign_group == 'control') & (df_data.conversion > 0),'target_class'] = 1 #CR\n",
    "df_data.loc[(df_data.campaign_group == 'treatment') & (df_data.conversion == 0),'target_class'] = 2 #TN\n",
    "df_data.loc[(df_data.campaign_group == 'treatment') & (df_data.conversion > 0),'target_class'] = 3 #TR"
   ]
  },
  {
   "cell_type": "markdown",
   "metadata": {},
   "source": [
    "In this example, the mapping of the classes are below:\n",
    "- 0 -> Control Non-Responders\n",
    "- 1 -> Control Responders\n",
    "- 2 -> Treatment Non-Responders\n",
    "- 3 -> Treatment Responders"
   ]
  },
  {
   "cell_type": "code",
   "execution_count": 14,
   "metadata": {},
   "outputs": [],
   "source": [
    "#creating the clusters\n",
    "kmeans = KMeans(n_clusters=5)\n",
    "kmeans.fit(df_data[['history']])\n",
    "df_data['history_cluster'] = kmeans.predict(df_data[['history']])\n",
    "#order the clusters\n",
    "df_data = order_cluster('history_cluster', 'history',df_data,True)\n",
    "#creating a new dataframe as model and dropping columns that defines the label\n",
    "df_model = df_data.drop(['offer','campaign_group','conversion'],axis=1)\n",
    "#convert categorical columns\n",
    "df_model = pd.get_dummies(df_model)"
   ]
  },
  {
   "cell_type": "code",
   "execution_count": 15,
   "metadata": {},
   "outputs": [
    {
     "data": {
      "text/html": [
       "<div>\n",
       "<style scoped>\n",
       "    .dataframe tbody tr th:only-of-type {\n",
       "        vertical-align: middle;\n",
       "    }\n",
       "\n",
       "    .dataframe tbody tr th {\n",
       "        vertical-align: top;\n",
       "    }\n",
       "\n",
       "    .dataframe thead th {\n",
       "        text-align: right;\n",
       "    }\n",
       "</style>\n",
       "<table border=\"1\" class=\"dataframe\">\n",
       "  <thead>\n",
       "    <tr style=\"text-align: right;\">\n",
       "      <th></th>\n",
       "      <th>recency</th>\n",
       "      <th>history</th>\n",
       "      <th>used_discount</th>\n",
       "      <th>used_bogo</th>\n",
       "      <th>is_referral</th>\n",
       "      <th>target_class</th>\n",
       "      <th>history_cluster</th>\n",
       "      <th>zip_code_Rural</th>\n",
       "      <th>zip_code_Surburban</th>\n",
       "      <th>zip_code_Urban</th>\n",
       "      <th>channel_Multichannel</th>\n",
       "      <th>channel_Phone</th>\n",
       "      <th>channel_Web</th>\n",
       "    </tr>\n",
       "  </thead>\n",
       "  <tbody>\n",
       "    <tr>\n",
       "      <th>0</th>\n",
       "      <td>10</td>\n",
       "      <td>142.44</td>\n",
       "      <td>1</td>\n",
       "      <td>0</td>\n",
       "      <td>0</td>\n",
       "      <td>2</td>\n",
       "      <td>0</td>\n",
       "      <td>0</td>\n",
       "      <td>1</td>\n",
       "      <td>0</td>\n",
       "      <td>0</td>\n",
       "      <td>1</td>\n",
       "      <td>0</td>\n",
       "    </tr>\n",
       "    <tr>\n",
       "      <th>1</th>\n",
       "      <td>2</td>\n",
       "      <td>45.34</td>\n",
       "      <td>1</td>\n",
       "      <td>0</td>\n",
       "      <td>0</td>\n",
       "      <td>2</td>\n",
       "      <td>0</td>\n",
       "      <td>0</td>\n",
       "      <td>0</td>\n",
       "      <td>1</td>\n",
       "      <td>0</td>\n",
       "      <td>0</td>\n",
       "      <td>1</td>\n",
       "    </tr>\n",
       "    <tr>\n",
       "      <th>2</th>\n",
       "      <td>6</td>\n",
       "      <td>134.83</td>\n",
       "      <td>0</td>\n",
       "      <td>1</td>\n",
       "      <td>0</td>\n",
       "      <td>3</td>\n",
       "      <td>0</td>\n",
       "      <td>0</td>\n",
       "      <td>1</td>\n",
       "      <td>0</td>\n",
       "      <td>0</td>\n",
       "      <td>1</td>\n",
       "      <td>0</td>\n",
       "    </tr>\n",
       "    <tr>\n",
       "      <th>3</th>\n",
       "      <td>9</td>\n",
       "      <td>46.42</td>\n",
       "      <td>0</td>\n",
       "      <td>1</td>\n",
       "      <td>0</td>\n",
       "      <td>2</td>\n",
       "      <td>0</td>\n",
       "      <td>0</td>\n",
       "      <td>0</td>\n",
       "      <td>1</td>\n",
       "      <td>0</td>\n",
       "      <td>1</td>\n",
       "      <td>0</td>\n",
       "    </tr>\n",
       "    <tr>\n",
       "      <th>4</th>\n",
       "      <td>10</td>\n",
       "      <td>32.84</td>\n",
       "      <td>0</td>\n",
       "      <td>1</td>\n",
       "      <td>1</td>\n",
       "      <td>2</td>\n",
       "      <td>0</td>\n",
       "      <td>0</td>\n",
       "      <td>0</td>\n",
       "      <td>1</td>\n",
       "      <td>0</td>\n",
       "      <td>0</td>\n",
       "      <td>1</td>\n",
       "    </tr>\n",
       "  </tbody>\n",
       "</table>\n",
       "</div>"
      ],
      "text/plain": [
       "   recency  history  used_discount  used_bogo  is_referral  target_class  \\\n",
       "0       10   142.44              1          0            0             2   \n",
       "1        2    45.34              1          0            0             2   \n",
       "2        6   134.83              0          1            0             3   \n",
       "3        9    46.42              0          1            0             2   \n",
       "4       10    32.84              0          1            1             2   \n",
       "\n",
       "   history_cluster  zip_code_Rural  zip_code_Surburban  zip_code_Urban  \\\n",
       "0                0               0                   1               0   \n",
       "1                0               0                   0               1   \n",
       "2                0               0                   1               0   \n",
       "3                0               0                   0               1   \n",
       "4                0               0                   0               1   \n",
       "\n",
       "   channel_Multichannel  channel_Phone  channel_Web  \n",
       "0                     0              1            0  \n",
       "1                     0              0            1  \n",
       "2                     0              1            0  \n",
       "3                     0              1            0  \n",
       "4                     0              0            1  "
      ]
     },
     "execution_count": 15,
     "metadata": {},
     "output_type": "execute_result"
    }
   ],
   "source": [
    "df_model.head()"
   ]
  },
  {
   "cell_type": "code",
   "execution_count": 16,
   "metadata": {},
   "outputs": [],
   "source": [
    "#create feature set and labels\n",
    "X = df_model.drop(['target_class'],axis=1)\n",
    "y = df_model.target_class"
   ]
  },
  {
   "cell_type": "code",
   "execution_count": 17,
   "metadata": {},
   "outputs": [
    {
     "data": {
      "text/plain": [
       "Index(['recency', 'history', 'used_discount', 'used_bogo', 'is_referral',\n",
       "       'history_cluster', 'zip_code_Rural', 'zip_code_Surburban',\n",
       "       'zip_code_Urban', 'channel_Multichannel', 'channel_Phone',\n",
       "       'channel_Web'],\n",
       "      dtype='object')"
      ]
     },
     "execution_count": 17,
     "metadata": {},
     "output_type": "execute_result"
    }
   ],
   "source": [
    "X.columns"
   ]
  },
  {
   "cell_type": "code",
   "execution_count": 20,
   "metadata": {},
   "outputs": [],
   "source": [
    "X_train, X_test, y_train, y_test = train_test_split(X, y, test_size=0.2, random_state=56)\n",
    "xgb_model = xgb.XGBClassifier().fit(X_train, y_train)\n",
    "class_probs = xgb_model.predict_proba(X_test)"
   ]
  },
  {
   "cell_type": "code",
   "execution_count": 21,
   "metadata": {},
   "outputs": [
    {
     "data": {
      "text/plain": [
       "array([0.33018395, 0.01280369, 0.597153  , 0.05985933], dtype=float32)"
      ]
     },
     "execution_count": 21,
     "metadata": {},
     "output_type": "execute_result"
    }
   ],
   "source": [
    "class_probs[0]"
   ]
  },
  {
   "cell_type": "code",
   "execution_count": 22,
   "metadata": {},
   "outputs": [
    {
     "name": "stderr",
     "output_type": "stream",
     "text": [
      "C:\\Users\\Mehul Sharma\\Anaconda3\\lib\\site-packages\\ipykernel_launcher.py:1: SettingWithCopyWarning: \n",
      "A value is trying to be set on a copy of a slice from a DataFrame.\n",
      "Try using .loc[row_indexer,col_indexer] = value instead\n",
      "\n",
      "See the caveats in the documentation: http://pandas.pydata.org/pandas-docs/stable/indexing.html#indexing-view-versus-copy\n",
      "  \"\"\"Entry point for launching an IPython kernel.\n",
      "C:\\Users\\Mehul Sharma\\Anaconda3\\lib\\site-packages\\ipykernel_launcher.py:2: SettingWithCopyWarning: \n",
      "A value is trying to be set on a copy of a slice from a DataFrame.\n",
      "Try using .loc[row_indexer,col_indexer] = value instead\n",
      "\n",
      "See the caveats in the documentation: http://pandas.pydata.org/pandas-docs/stable/indexing.html#indexing-view-versus-copy\n",
      "  \n",
      "C:\\Users\\Mehul Sharma\\Anaconda3\\lib\\site-packages\\ipykernel_launcher.py:3: SettingWithCopyWarning: \n",
      "A value is trying to be set on a copy of a slice from a DataFrame.\n",
      "Try using .loc[row_indexer,col_indexer] = value instead\n",
      "\n",
      "See the caveats in the documentation: http://pandas.pydata.org/pandas-docs/stable/indexing.html#indexing-view-versus-copy\n",
      "  This is separate from the ipykernel package so we can avoid doing imports until\n",
      "C:\\Users\\Mehul Sharma\\Anaconda3\\lib\\site-packages\\ipykernel_launcher.py:4: SettingWithCopyWarning: \n",
      "A value is trying to be set on a copy of a slice from a DataFrame.\n",
      "Try using .loc[row_indexer,col_indexer] = value instead\n",
      "\n",
      "See the caveats in the documentation: http://pandas.pydata.org/pandas-docs/stable/indexing.html#indexing-view-versus-copy\n",
      "  after removing the cwd from sys.path.\n"
     ]
    }
   ],
   "source": [
    "X_test['proba_CN'] = class_probs[:,0] \n",
    "X_test['proba_CR'] = class_probs[:,1] \n",
    "X_test['proba_TN'] = class_probs[:,2] \n",
    "X_test['proba_TR'] = class_probs[:,3]"
   ]
  },
  {
   "cell_type": "code",
   "execution_count": 23,
   "metadata": {},
   "outputs": [
    {
     "name": "stderr",
     "output_type": "stream",
     "text": [
      "C:\\Users\\Mehul Sharma\\Anaconda3\\lib\\site-packages\\ipykernel_launcher.py:1: SettingWithCopyWarning: \n",
      "A value is trying to be set on a copy of a slice from a DataFrame.\n",
      "Try using .loc[row_indexer,col_indexer] = value instead\n",
      "\n",
      "See the caveats in the documentation: http://pandas.pydata.org/pandas-docs/stable/indexing.html#indexing-view-versus-copy\n",
      "  \"\"\"Entry point for launching an IPython kernel.\n"
     ]
    }
   ],
   "source": [
    "X_test['uplift_score'] = X_test.eval('proba_CN + proba_TR - proba_TN - proba_CR')"
   ]
  },
  {
   "cell_type": "code",
   "execution_count": 24,
   "metadata": {},
   "outputs": [
    {
     "data": {
      "text/html": [
       "<div>\n",
       "<style scoped>\n",
       "    .dataframe tbody tr th:only-of-type {\n",
       "        vertical-align: middle;\n",
       "    }\n",
       "\n",
       "    .dataframe tbody tr th {\n",
       "        vertical-align: top;\n",
       "    }\n",
       "\n",
       "    .dataframe thead th {\n",
       "        text-align: right;\n",
       "    }\n",
       "</style>\n",
       "<table border=\"1\" class=\"dataframe\">\n",
       "  <thead>\n",
       "    <tr style=\"text-align: right;\">\n",
       "      <th></th>\n",
       "      <th>recency</th>\n",
       "      <th>history</th>\n",
       "      <th>used_discount</th>\n",
       "      <th>used_bogo</th>\n",
       "      <th>is_referral</th>\n",
       "      <th>history_cluster</th>\n",
       "      <th>zip_code_Rural</th>\n",
       "      <th>zip_code_Surburban</th>\n",
       "      <th>zip_code_Urban</th>\n",
       "      <th>channel_Multichannel</th>\n",
       "      <th>channel_Phone</th>\n",
       "      <th>channel_Web</th>\n",
       "      <th>proba_CN</th>\n",
       "      <th>proba_CR</th>\n",
       "      <th>proba_TN</th>\n",
       "      <th>proba_TR</th>\n",
       "      <th>uplift_score</th>\n",
       "    </tr>\n",
       "  </thead>\n",
       "  <tbody>\n",
       "    <tr>\n",
       "      <th>32277</th>\n",
       "      <td>6</td>\n",
       "      <td>29.99</td>\n",
       "      <td>1</td>\n",
       "      <td>0</td>\n",
       "      <td>1</td>\n",
       "      <td>0</td>\n",
       "      <td>0</td>\n",
       "      <td>0</td>\n",
       "      <td>1</td>\n",
       "      <td>0</td>\n",
       "      <td>1</td>\n",
       "      <td>0</td>\n",
       "      <td>0.330184</td>\n",
       "      <td>0.012804</td>\n",
       "      <td>0.597153</td>\n",
       "      <td>0.059859</td>\n",
       "      <td>-0.219913</td>\n",
       "    </tr>\n",
       "    <tr>\n",
       "      <th>12824</th>\n",
       "      <td>8</td>\n",
       "      <td>29.99</td>\n",
       "      <td>0</td>\n",
       "      <td>1</td>\n",
       "      <td>0</td>\n",
       "      <td>0</td>\n",
       "      <td>1</td>\n",
       "      <td>0</td>\n",
       "      <td>0</td>\n",
       "      <td>0</td>\n",
       "      <td>0</td>\n",
       "      <td>1</td>\n",
       "      <td>0.264175</td>\n",
       "      <td>0.046504</td>\n",
       "      <td>0.552342</td>\n",
       "      <td>0.136978</td>\n",
       "      <td>-0.197693</td>\n",
       "    </tr>\n",
       "    <tr>\n",
       "      <th>20159</th>\n",
       "      <td>7</td>\n",
       "      <td>134.66</td>\n",
       "      <td>1</td>\n",
       "      <td>0</td>\n",
       "      <td>0</td>\n",
       "      <td>0</td>\n",
       "      <td>0</td>\n",
       "      <td>1</td>\n",
       "      <td>0</td>\n",
       "      <td>0</td>\n",
       "      <td>1</td>\n",
       "      <td>0</td>\n",
       "      <td>0.309038</td>\n",
       "      <td>0.037251</td>\n",
       "      <td>0.569651</td>\n",
       "      <td>0.084061</td>\n",
       "      <td>-0.213802</td>\n",
       "    </tr>\n",
       "    <tr>\n",
       "      <th>41575</th>\n",
       "      <td>3</td>\n",
       "      <td>195.55</td>\n",
       "      <td>0</td>\n",
       "      <td>1</td>\n",
       "      <td>0</td>\n",
       "      <td>1</td>\n",
       "      <td>0</td>\n",
       "      <td>0</td>\n",
       "      <td>1</td>\n",
       "      <td>0</td>\n",
       "      <td>0</td>\n",
       "      <td>1</td>\n",
       "      <td>0.282702</td>\n",
       "      <td>0.047076</td>\n",
       "      <td>0.535739</td>\n",
       "      <td>0.134483</td>\n",
       "      <td>-0.165631</td>\n",
       "    </tr>\n",
       "    <tr>\n",
       "      <th>10736</th>\n",
       "      <td>10</td>\n",
       "      <td>29.99</td>\n",
       "      <td>1</td>\n",
       "      <td>0</td>\n",
       "      <td>0</td>\n",
       "      <td>0</td>\n",
       "      <td>0</td>\n",
       "      <td>1</td>\n",
       "      <td>0</td>\n",
       "      <td>0</td>\n",
       "      <td>0</td>\n",
       "      <td>1</td>\n",
       "      <td>0.308182</td>\n",
       "      <td>0.037957</td>\n",
       "      <td>0.557303</td>\n",
       "      <td>0.096558</td>\n",
       "      <td>-0.190520</td>\n",
       "    </tr>\n",
       "  </tbody>\n",
       "</table>\n",
       "</div>"
      ],
      "text/plain": [
       "       recency  history  used_discount  used_bogo  is_referral  \\\n",
       "32277        6    29.99              1          0            1   \n",
       "12824        8    29.99              0          1            0   \n",
       "20159        7   134.66              1          0            0   \n",
       "41575        3   195.55              0          1            0   \n",
       "10736       10    29.99              1          0            0   \n",
       "\n",
       "       history_cluster  zip_code_Rural  zip_code_Surburban  zip_code_Urban  \\\n",
       "32277                0               0                   0               1   \n",
       "12824                0               1                   0               0   \n",
       "20159                0               0                   1               0   \n",
       "41575                1               0                   0               1   \n",
       "10736                0               0                   1               0   \n",
       "\n",
       "       channel_Multichannel  channel_Phone  channel_Web  proba_CN  proba_CR  \\\n",
       "32277                     0              1            0  0.330184  0.012804   \n",
       "12824                     0              0            1  0.264175  0.046504   \n",
       "20159                     0              1            0  0.309038  0.037251   \n",
       "41575                     0              0            1  0.282702  0.047076   \n",
       "10736                     0              0            1  0.308182  0.037957   \n",
       "\n",
       "       proba_TN  proba_TR  uplift_score  \n",
       "32277  0.597153  0.059859     -0.219913  \n",
       "12824  0.552342  0.136978     -0.197693  \n",
       "20159  0.569651  0.084061     -0.213802  \n",
       "41575  0.535739  0.134483     -0.165631  \n",
       "10736  0.557303  0.096558     -0.190520  "
      ]
     },
     "execution_count": 24,
     "metadata": {},
     "output_type": "execute_result"
    }
   ],
   "source": [
    "X_test.head()"
   ]
  },
  {
   "cell_type": "code",
   "execution_count": 25,
   "metadata": {},
   "outputs": [],
   "source": [
    "overall_proba = xgb_model.predict_proba(df_model.drop(['target_class'],axis=1))"
   ]
  },
  {
   "cell_type": "code",
   "execution_count": 26,
   "metadata": {},
   "outputs": [],
   "source": [
    "df_model['proba_CN'] = overall_proba[:,0] \n",
    "df_model['proba_CR'] = overall_proba[:,1] \n",
    "df_model['proba_TN'] = overall_proba[:,2] \n",
    "df_model['proba_TR'] = overall_proba[:,3]"
   ]
  },
  {
   "cell_type": "code",
   "execution_count": 27,
   "metadata": {},
   "outputs": [],
   "source": [
    "df_model['uplift_score'] = df_model.eval('proba_CN + proba_TR - proba_TN - proba_CR')"
   ]
  },
  {
   "cell_type": "code",
   "execution_count": 28,
   "metadata": {},
   "outputs": [],
   "source": [
    "df_data['uplift_score'] = df_model['uplift_score']"
   ]
  },
  {
   "cell_type": "code",
   "execution_count": 29,
   "metadata": {},
   "outputs": [
    {
     "data": {
      "text/html": [
       "<div>\n",
       "<style scoped>\n",
       "    .dataframe tbody tr th:only-of-type {\n",
       "        vertical-align: middle;\n",
       "    }\n",
       "\n",
       "    .dataframe tbody tr th {\n",
       "        vertical-align: top;\n",
       "    }\n",
       "\n",
       "    .dataframe thead th {\n",
       "        text-align: right;\n",
       "    }\n",
       "</style>\n",
       "<table border=\"1\" class=\"dataframe\">\n",
       "  <thead>\n",
       "    <tr style=\"text-align: right;\">\n",
       "      <th></th>\n",
       "      <th>recency</th>\n",
       "      <th>history</th>\n",
       "      <th>used_discount</th>\n",
       "      <th>used_bogo</th>\n",
       "      <th>zip_code</th>\n",
       "      <th>is_referral</th>\n",
       "      <th>channel</th>\n",
       "      <th>offer</th>\n",
       "      <th>conversion</th>\n",
       "      <th>campaign_group</th>\n",
       "      <th>target_class</th>\n",
       "      <th>history_cluster</th>\n",
       "      <th>uplift_score</th>\n",
       "    </tr>\n",
       "  </thead>\n",
       "  <tbody>\n",
       "    <tr>\n",
       "      <th>0</th>\n",
       "      <td>10</td>\n",
       "      <td>142.44</td>\n",
       "      <td>1</td>\n",
       "      <td>0</td>\n",
       "      <td>Surburban</td>\n",
       "      <td>0</td>\n",
       "      <td>Phone</td>\n",
       "      <td>Buy One Get One</td>\n",
       "      <td>0</td>\n",
       "      <td>treatment</td>\n",
       "      <td>2</td>\n",
       "      <td>0</td>\n",
       "      <td>-0.204294</td>\n",
       "    </tr>\n",
       "    <tr>\n",
       "      <th>1</th>\n",
       "      <td>2</td>\n",
       "      <td>45.34</td>\n",
       "      <td>1</td>\n",
       "      <td>0</td>\n",
       "      <td>Urban</td>\n",
       "      <td>0</td>\n",
       "      <td>Web</td>\n",
       "      <td>Buy One Get One</td>\n",
       "      <td>0</td>\n",
       "      <td>treatment</td>\n",
       "      <td>2</td>\n",
       "      <td>0</td>\n",
       "      <td>-0.149471</td>\n",
       "    </tr>\n",
       "    <tr>\n",
       "      <th>2</th>\n",
       "      <td>6</td>\n",
       "      <td>134.83</td>\n",
       "      <td>0</td>\n",
       "      <td>1</td>\n",
       "      <td>Surburban</td>\n",
       "      <td>0</td>\n",
       "      <td>Phone</td>\n",
       "      <td>Buy One Get One</td>\n",
       "      <td>1</td>\n",
       "      <td>treatment</td>\n",
       "      <td>3</td>\n",
       "      <td>0</td>\n",
       "      <td>-0.170402</td>\n",
       "    </tr>\n",
       "    <tr>\n",
       "      <th>3</th>\n",
       "      <td>9</td>\n",
       "      <td>46.42</td>\n",
       "      <td>0</td>\n",
       "      <td>1</td>\n",
       "      <td>Urban</td>\n",
       "      <td>0</td>\n",
       "      <td>Phone</td>\n",
       "      <td>Buy One Get One</td>\n",
       "      <td>0</td>\n",
       "      <td>treatment</td>\n",
       "      <td>2</td>\n",
       "      <td>0</td>\n",
       "      <td>-0.179062</td>\n",
       "    </tr>\n",
       "    <tr>\n",
       "      <th>4</th>\n",
       "      <td>10</td>\n",
       "      <td>32.84</td>\n",
       "      <td>0</td>\n",
       "      <td>1</td>\n",
       "      <td>Urban</td>\n",
       "      <td>1</td>\n",
       "      <td>Web</td>\n",
       "      <td>Buy One Get One</td>\n",
       "      <td>0</td>\n",
       "      <td>treatment</td>\n",
       "      <td>2</td>\n",
       "      <td>0</td>\n",
       "      <td>-0.227502</td>\n",
       "    </tr>\n",
       "  </tbody>\n",
       "</table>\n",
       "</div>"
      ],
      "text/plain": [
       "   recency  history  used_discount  used_bogo   zip_code  is_referral channel  \\\n",
       "0       10   142.44              1          0  Surburban            0   Phone   \n",
       "1        2    45.34              1          0      Urban            0     Web   \n",
       "2        6   134.83              0          1  Surburban            0   Phone   \n",
       "3        9    46.42              0          1      Urban            0   Phone   \n",
       "4       10    32.84              0          1      Urban            1     Web   \n",
       "\n",
       "             offer  conversion campaign_group  target_class  history_cluster  \\\n",
       "0  Buy One Get One           0      treatment             2                0   \n",
       "1  Buy One Get One           0      treatment             2                0   \n",
       "2  Buy One Get One           1      treatment             3                0   \n",
       "3  Buy One Get One           0      treatment             2                0   \n",
       "4  Buy One Get One           0      treatment             2                0   \n",
       "\n",
       "   uplift_score  \n",
       "0     -0.204294  \n",
       "1     -0.149471  \n",
       "2     -0.170402  \n",
       "3     -0.179062  \n",
       "4     -0.227502  "
      ]
     },
     "execution_count": 29,
     "metadata": {},
     "output_type": "execute_result"
    }
   ],
   "source": [
    "df_data.head()"
   ]
  },
  {
   "cell_type": "code",
   "execution_count": 30,
   "metadata": {},
   "outputs": [
    {
     "data": {
      "text/plain": [
       "offer\n",
       "Buy One Get One   -0.182591\n",
       "Discount          -0.181935\n",
       "No Offer          -0.178105\n",
       "Name: uplift_score, dtype: float32"
      ]
     },
     "execution_count": 30,
     "metadata": {},
     "output_type": "execute_result"
    }
   ],
   "source": [
    "df_data.groupby('offer').uplift_score.mean()"
   ]
  },
  {
   "cell_type": "code",
   "execution_count": 31,
   "metadata": {},
   "outputs": [],
   "source": [
    "df_data_lift = df_data.copy()\n",
    "uplift_q_75 = df_data_lift.uplift_score.quantile(0.75)\n",
    "df_data_lift = df_data_lift[(df_data_lift.offer != 'Buy One Get One') & (df_data_lift.uplift_score > uplift_q_75)].reset_index(drop=True)"
   ]
  },
  {
   "cell_type": "code",
   "execution_count": 32,
   "metadata": {},
   "outputs": [
    {
     "data": {
      "text/plain": [
       "10868"
      ]
     },
     "execution_count": 32,
     "metadata": {},
     "output_type": "execute_result"
    }
   ],
   "source": [
    "len(df_data_lift)"
   ]
  },
  {
   "cell_type": "code",
   "execution_count": 33,
   "metadata": {},
   "outputs": [
    {
     "name": "stdout",
     "output_type": "stream",
     "text": [
      "Discount Conversion Uplift: 12.55%\n",
      "Discount Order Uplift: 661.51\n",
      "Discount Revenue Uplift: $16537.67\n",
      "\n"
     ]
    }
   ],
   "source": [
    "calc_uplift(df_data_lift)"
   ]
  },
  {
   "cell_type": "code",
   "execution_count": 34,
   "metadata": {},
   "outputs": [],
   "source": [
    "df_data_lift = df_data.copy()\n",
    "uplift_q_5 = df_data_lift.uplift_score.quantile(0.5)\n",
    "df_data_lift = df_data_lift[(df_data_lift.offer != 'Buy One Get One') & (df_data_lift.uplift_score < uplift_q_5)].reset_index(drop=True)"
   ]
  },
  {
   "cell_type": "code",
   "execution_count": 35,
   "metadata": {},
   "outputs": [
    {
     "name": "stdout",
     "output_type": "stream",
     "text": [
      "Discount Conversion Uplift: 5.45%\n",
      "Discount Order Uplift: 588.78\n",
      "Discount Revenue Uplift: $14719.42\n",
      "\n"
     ]
    }
   ],
   "source": [
    "calc_uplift(df_data_lift)"
   ]
  },
  {
   "cell_type": "code",
   "execution_count": null,
   "metadata": {},
   "outputs": [],
   "source": []
  }
 ],
 "metadata": {
  "kernelspec": {
   "display_name": "Python 3",
   "language": "python",
   "name": "python3"
  },
  "language_info": {
   "codemirror_mode": {
    "name": "ipython",
    "version": 3
   },
   "file_extension": ".py",
   "mimetype": "text/x-python",
   "name": "python",
   "nbconvert_exporter": "python",
   "pygments_lexer": "ipython3",
   "version": "3.7.3"
  }
 },
 "nbformat": 4,
 "nbformat_minor": 2
}
